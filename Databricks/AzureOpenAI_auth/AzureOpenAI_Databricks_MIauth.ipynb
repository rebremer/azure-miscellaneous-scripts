{
 "cells": [
  {
   "cell_type": "code",
   "execution_count": 0,
   "metadata": {
    "application/vnd.databricks.v1+cell": {
     "cellMetadata": {
      "byteLimit": 2048000,
      "rowLimit": 10000
     },
     "inputWidgets": {},
     "nuid": "915e461b-40f4-49b0-97b1-4fc04256191d",
     "showTitle": false,
     "title": ""
    }
   },
   "outputs": [
    {
     "output_type": "stream",
     "name": "stdout",
     "output_type": "stream",
     "text": [
      "{\n  \"choices\": [\n    {\n      \"finish_reason\": \"stop\",\n      \"index\": 0,\n      \"message\": {\n        \"content\": \"Yes, many Azure AI services support customer managed keys. However, the availability of this feature may vary depending on the specific service. It is recommended to refer to the documentation of each service to determine if customer managed keys are supported.\",\n        \"role\": \"assistant\"\n      }\n    }\n  ],\n  \"created\": 1693300857,\n  \"id\": \"chatcmpl-7spC5u0bG9rIXNHVrSysEouUl48Hi\",\n  \"model\": \"gpt-35-turbo\",\n  \"object\": \"chat.completion\",\n  \"usage\": {\n    \"completion_tokens\": 46,\n    \"prompt_tokens\": 55,\n    \"total_tokens\": 101\n  }\n}\n"
     ]
    }
   ],
   "source": [
    "from azure.identity import DefaultAzureCredential\n",
    "import openai\n",
    "\n",
    "credential = DefaultAzureCredential()\n",
    "\n",
    "access_token = credential.get_token(\"https://cognitiveservices.azure.com/.default\")\n",
    "#print(access_token)\n",
    "\n",
    "openai.api_base = \"https://<<your Azure Open AI>>.openai.azure.com/\"\n",
    "openai.api_version = \"2023-05-15\"\n",
    "openai.api_type = \"azure_ad\"\n",
    "openai.api_key = access_token.token\n",
    "\n",
    "response = openai.ChatCompletion.create(\n",
    "\n",
    "    engine=\"gpt-35-turbo\",\n",
    "    messages=[\n",
    "        {\"role\": \"system\", \"content\": \"You are a helpful assistant.\"},\n",
    "        {\"role\": \"user\", \"content\": \"Does Azure OpenAI support customer managed keys?\"},\n",
    "        {\"role\": \"assistant\", \"content\": \"Yes, customer managed keys are supported by Azure OpenAI.\"},\n",
    "        {\"role\": \"user\", \"content\": \"Do other Azure AI services support this too?\"}\n",
    "    ]\n",
    ")\n",
    "\n",
    "print(response)"
   ]
  },
  {
   "cell_type": "code",
   "execution_count": 0,
   "metadata": {
    "application/vnd.databricks.v1+cell": {
     "cellMetadata": {},
     "inputWidgets": {},
     "nuid": "b5b00b0b-5065-4b1e-a8b7-2776ea543db8",
     "showTitle": false,
     "title": ""
    }
   },
   "outputs": [],
   "source": []
  }
 ],
 "metadata": {
  "application/vnd.databricks.v1+notebook": {
   "dashboards": [],
   "language": "python",
   "notebookMetadata": {
    "pythonIndentUnit": 4
   },
   "notebookName": "AzureOpenAI_Databricks_MIauth",
   "widgets": {}
  }
 },
 "nbformat": 4,
 "nbformat_minor": 0
}
