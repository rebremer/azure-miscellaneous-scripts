{
  "cells": [
    {
      "cell_type": "code",
      "source": [
        "%%pyspark\r\n",
        "#df = spark.read.load.('abfss://bronze@testhmacmaskstor.dfs.core.windows.net/SalesLT.Customer.txt', format='text', header='true')\r\n",
        "df = spark.read.option(\"header\",True).csv('abfss://bronze@testhmacmaskstor.dfs.core.windows.net/SalesLT.Customer.txt')\r\n",
        "\r\n",
        "display(df.limit(10))"
      ],
      "outputs": [
        {
          "output_type": "display_data",
          "data": {
            "application/vnd.livy.statement-meta+json": {
              "spark_pool": "testhmacspark",
              "session_id": "25",
              "statement_id": 52,
              "state": "finished",
              "livy_statement_state": "available",
              "queued_time": "2023-03-29T12:00:31.8832797Z",
              "session_start_time": null,
              "execution_start_time": "2023-03-29T12:00:32.0693993Z",
              "execution_finish_time": "2023-03-29T12:00:33.2495237Z",
              "spark_jobs": null,
              "parent_msg_id": "cbffa386-096e-4b7d-b96a-56737b523121"
            },
            "text/plain": "StatementMeta(testhmacspark, 25, 52, Finished, Available)"
          },
          "metadata": {}
        },
        {
          "output_type": "display_data",
          "data": {
            "application/vnd.synapse.widget-view+json": {
              "widget_id": "66c05e26-dfcc-4d45-8734-3b348fbacc1d",
              "widget_type": "Synapse.DataFrame"
            },
            "text/plain": "SynapseWidget(Synapse.DataFrame, 66c05e26-dfcc-4d45-8734-3b348fbacc1d)"
          },
          "metadata": {}
        }
      ],
      "execution_count": 106,
      "metadata": {
        "microsoft": {
          "language": "python"
        },
        "collapsed": false
      }
    },
    {
      "cell_type": "markdown",
      "source": [],
      "metadata": {
        "nteract": {
          "transient": {
            "deleting": false
          }
        }
      }
    },
    {
      "cell_type": "code",
      "source": [
        "import hashlib\r\n",
        "def fun_lst_hash(size, secret):\r\n",
        "\r\n",
        "    lst = list(range(0,size))\r\n",
        "    lst_hash =[]\r\n",
        "    for item in lst:\r\n",
        "\r\n",
        "        value = str(item).rjust(len(str(size))-1, '0') + secret\r\n",
        "        encoded_value = str.encode(value)\r\n",
        "        hash_obj_sha256 = hashlib.sha256(encoded_value).hexdigest()\r\n",
        "\r\n",
        "        lst_hash.append(str(hash_obj_sha256))\r\n",
        "        lst_hash.sort()\r\n",
        "    return lst_hash\r\n",
        "\r\n",
        "secret10 = TokenLibrary.getSecret('test-hmacmask-akv', 'secret10', 'AzureKeyVaultHMAC')\r\n",
        "lst_10_hash = fun_lst_hash(10, secret10)\r\n",
        "#\r\n",
        "secret100 = TokenLibrary.getSecret('test-hmacmask-akv', 'secret100', 'AzureKeyVaultHMAC')\r\n",
        "lst_100_hash = fun_lst_hash(100, secret100)\r\n",
        "#\r\n",
        "secret1000 = TokenLibrary.getSecret('test-hmacmask-akv', 'secret1000', 'AzureKeyVaultHMAC')\r\n",
        "lst_1000_hash = fun_lst_hash(1000, secret1000)\r\n",
        "#\r\n",
        "secret10000 = TokenLibrary.getSecret('test-hmacmask-akv', 'secret10000', 'AzureKeyVaultHMAC')\r\n",
        "lst_10000_hash = fun_lst_hash(10000, secret10000)\r\n",
        "#\r\n",
        "secret100000 = TokenLibrary.getSecret('test-hmacmask-akv', 'secret100000', 'AzureKeyVaultHMAC')\r\n",
        "lst_100000_hash = fun_lst_hash(100000, secret100000)\r\n",
        "#\r\n",
        "secrets_all = [secret10, secret100, secret1000, secret10000, secret100000]\r\n",
        "lst_hash_all = [lst_10_hash, lst_100_hash, lst_1000_hash, lst_10000_hash, lst_100000_hash]\r\n"
      ],
      "outputs": [
        {
          "output_type": "display_data",
          "data": {
            "application/vnd.livy.statement-meta+json": {
              "spark_pool": "testhmacspark",
              "session_id": "25",
              "statement_id": 53,
              "state": "finished",
              "livy_statement_state": "available",
              "queued_time": "2023-03-29T12:00:37.5401619Z",
              "session_start_time": null,
              "execution_start_time": "2023-03-29T12:00:37.6991796Z",
              "execution_finish_time": "2023-03-29T12:02:51.7324487Z",
              "spark_jobs": null,
              "parent_msg_id": "2e4a1756-d265-4b9f-8a2a-4e25d7fa6bf1"
            },
            "text/plain": "StatementMeta(testhmacspark, 25, 53, Finished, Available)"
          },
          "metadata": {}
        }
      ],
      "execution_count": 107,
      "metadata": {
        "jupyter": {
          "source_hidden": false,
          "outputs_hidden": false
        },
        "nteract": {
          "transient": {
            "deleting": false
          }
        }
      }
    },
    {
      "cell_type": "code",
      "source": [
        "def mask_func(col_val):\r\n",
        "    col_val_pfe_raw = \"\"\r\n",
        "    dummy_val_string_array = \"\"\r\n",
        "    for i, val in enumerate(col_val):\r\n",
        "        if val.isnumeric():\r\n",
        "            dummy_val_string_array += str(val)\r\n",
        "\r\n",
        "        if len(dummy_val_string_array) == 5 or i == len(col_val) - 1:\r\n",
        "            # either max length of substring is reached or end of string is reached, start obfuscating string\r\n",
        "            value = dummy_val_string_array + secrets_all[len(dummy_val_string_array)-1]\r\n",
        "            encoded_value = str.encode(value)\r\n",
        "            hash_obj_sha256 = hashlib.sha256(encoded_value).hexdigest()\r\n",
        "            index_pfe = lst_hash_all[len(dummy_val_string_array)-1].index(hash_obj_sha256)\r\n",
        "            value_pfe = str(index_pfe).rjust(len(dummy_val_string_array), '0')\r\n",
        "            col_val_pfe_raw += value_pfe\r\n",
        "            dummy_val_string_array = \"\"\r\n",
        "\r\n",
        "    col_val_pfe = \"\"\r\n",
        "    non_numeric = 0\r\n",
        "    for j, val in enumerate(col_val):\r\n",
        "        if not(val.isnumeric()):\r\n",
        "            col_val_pfe += col_val[j]\r\n",
        "            non_numeric += 1\r\n",
        "        else:\r\n",
        "            col_val_pfe += col_val_pfe_raw[j-non_numeric]\r\n",
        "    \r\n",
        "    return col_val_pfe\r\n",
        "\r\n",
        "\r\n",
        "phone = \"123-456-7890\"\r\n",
        "\r\n",
        "phone_pfe = mask_func(phone)\r\n",
        "print(phone_pfe)\r\n",
        "#print(lst_100000_hash)"
      ],
      "outputs": [
        {
          "output_type": "display_data",
          "data": {
            "application/vnd.livy.statement-meta+json": {
              "spark_pool": "testhmacspark",
              "session_id": "25",
              "statement_id": 58,
              "state": "finished",
              "livy_statement_state": "available",
              "queued_time": "2023-03-29T12:19:10.1050838Z",
              "session_start_time": null,
              "execution_start_time": "2023-03-29T12:19:10.3133913Z",
              "execution_finish_time": "2023-03-29T12:19:10.4991038Z",
              "spark_jobs": null,
              "parent_msg_id": "3ec2d12d-fc0f-484b-bcb5-28a192e6b415"
            },
            "text/plain": "StatementMeta(testhmacspark, 25, 58, Finished, Available)"
          },
          "metadata": {}
        },
        {
          "output_type": "stream",
          "name": "stdout",
          "text": [
            "420-085-5464\n"
          ]
        }
      ],
      "execution_count": 112,
      "metadata": {
        "jupyter": {
          "source_hidden": false,
          "outputs_hidden": false
        },
        "nteract": {
          "transient": {
            "deleting": false
          }
        }
      }
    },
    {
      "cell_type": "code",
      "source": [
        "# https://tunetotech.com/Post.aspx?post=9\r\n",
        "from pyspark.sql.functions import udf\r\n",
        "from pyspark.sql.types import StringType\r\n",
        "#\r\n",
        "mask_func_udf = udf(mask_func, StringType())\r\n",
        "df2=df.withColumn('Phone', mask_func_udf(df.Phone))\r\n",
        "\r\n",
        "display(df2.limit(10))"
      ],
      "outputs": [
        {
          "output_type": "display_data",
          "data": {
            "application/vnd.livy.statement-meta+json": {
              "spark_pool": "testhmacspark",
              "session_id": "25",
              "statement_id": 59,
              "state": "finished",
              "livy_statement_state": "available",
              "queued_time": "2023-03-29T12:21:15.7128511Z",
              "session_start_time": null,
              "execution_start_time": "2023-03-29T12:21:15.9125195Z",
              "execution_finish_time": "2023-03-29T12:21:18.8707461Z",
              "spark_jobs": null,
              "parent_msg_id": "eed52c6a-91ff-4acd-b074-9ee88a85f68a"
            },
            "text/plain": "StatementMeta(testhmacspark, 25, 59, Finished, Available)"
          },
          "metadata": {}
        },
        {
          "output_type": "display_data",
          "data": {
            "application/vnd.synapse.widget-view+json": {
              "widget_id": "fd70514e-8638-4799-81ed-ba5e0f9530ea",
              "widget_type": "Synapse.DataFrame"
            },
            "text/plain": "SynapseWidget(Synapse.DataFrame, fd70514e-8638-4799-81ed-ba5e0f9530ea)"
          },
          "metadata": {}
        }
      ],
      "execution_count": 113,
      "metadata": {
        "jupyter": {
          "source_hidden": false,
          "outputs_hidden": false
        },
        "nteract": {
          "transient": {
            "deleting": false
          }
        },
        "collapsed": false
      }
    },
    {
      "cell_type": "code",
      "source": [
        "df2.write.mode(\"overwrite\").option(\"header\",\"true\").csv('abfss://gold@testhmacmaskstor.dfs.core.windows.net/SalesLT.Customer_masked.txt')"
      ],
      "outputs": [
        {
          "output_type": "display_data",
          "data": {
            "application/vnd.livy.statement-meta+json": {
              "spark_pool": "testhmacspark",
              "session_id": "24",
              "statement_id": 53,
              "state": "finished",
              "livy_statement_state": "available",
              "queued_time": "2023-03-29T07:57:31.9043272Z",
              "session_start_time": null,
              "execution_start_time": "2023-03-29T07:57:32.1309528Z",
              "execution_finish_time": "2023-03-29T07:57:36.2787629Z",
              "spark_jobs": null,
              "parent_msg_id": "232def4f-f2b7-4a3d-90de-25d577c1cc2e"
            },
            "text/plain": "StatementMeta(testhmacspark, 24, 53, Finished, Available)"
          },
          "metadata": {}
        }
      ],
      "execution_count": 53,
      "metadata": {
        "jupyter": {
          "source_hidden": false,
          "outputs_hidden": false
        },
        "nteract": {
          "transient": {
            "deleting": false
          }
        }
      }
    },
    {
      "cell_type": "code",
      "source": [],
      "outputs": [],
      "execution_count": null,
      "metadata": {
        "jupyter": {
          "source_hidden": false,
          "outputs_hidden": false
        },
        "nteract": {
          "transient": {
            "deleting": false
          }
        }
      }
    }
  ],
  "metadata": {
    "kernelspec": {
      "name": "synapse_pyspark",
      "language": "Python",
      "display_name": "Synapse PySpark"
    },
    "language_info": {
      "name": "python"
    },
    "kernel_info": {
      "name": "synapse_pyspark"
    },
    "description": null,
    "save_output": true,
    "synapse_widget": {
      "version": "0.1",
      "state": {
        "66c05e26-dfcc-4d45-8734-3b348fbacc1d": {
          "type": "Synapse.DataFrame",
          "sync_state": {
            "table": {
              "rows": [
                {
                  "0": "1",
                  "1": "False",
                  "2": "Mr.",
                  "3": "Orlando",
                  "4": "N.",
                  "5": "Gee",
                  "7": "A Bike Store",
                  "8": "adventure-works\\pamela0",
                  "9": "orlando0@adventure-works.com",
                  "10": "245-555-0173",
                  "11": "L/Rlwxzp4w7RWmEgXX+/A7cXaePEPcp+KwQhl2fJL7w=",
                  "12": "1KjXYs4=",
                  "13": "3f5ae95e-b87d-4aed-95b4-c3797afcb74f",
                  "14": "2005-08-01 00:00:00.0000000"
                },
                {
                  "0": "2",
                  "1": "False",
                  "2": "Mr.",
                  "3": "Keith",
                  "5": "Harris",
                  "7": "Progressive Sports",
                  "8": "adventure-works\\david8",
                  "9": "keith0@adventure-works.com",
                  "10": "170-555-0127",
                  "11": "YPdtRdvqeAhj6wyxEsFdshBDNXxkCXn+CRgbvJItknw=",
                  "12": "fs1ZGhY=",
                  "13": "e552f657-a9af-4a7d-a645-c429d6e02491",
                  "14": "2006-08-01 00:00:00.0000000"
                },
                {
                  "0": "3",
                  "1": "False",
                  "2": "Ms.",
                  "3": "Donna",
                  "4": "F.",
                  "5": "Carreras",
                  "7": "Advanced Bike Components",
                  "8": "adventure-works\\jillian0",
                  "9": "donna0@adventure-works.com",
                  "10": "279-555-0130",
                  "11": "LNoK27abGQo48gGue3EBV/UrlYSToV0/s87dCRV7uJk=",
                  "12": "YTNH5Rw=",
                  "13": "130774b1-db21-4ef3-98c8-c104bcd6ed6d",
                  "14": "2005-09-01 00:00:00.0000000"
                },
                {
                  "0": "4",
                  "1": "False",
                  "2": "Ms.",
                  "3": "Janet",
                  "4": "M.",
                  "5": "Gates",
                  "7": "Modular Cycle Systems",
                  "8": "adventure-works\\jillian0",
                  "9": "janet1@adventure-works.com",
                  "10": "710-555-0173",
                  "11": "ElzTpSNbUW1Ut+L5cWlfR7MF6nBZia8WpmGaQPjLOJA=",
                  "12": "nm7D5e4=",
                  "13": "ff862851-1daa-4044-be7c-3e85583c054d",
                  "14": "2006-07-01 00:00:00.0000000"
                },
                {
                  "0": "5",
                  "1": "False",
                  "2": "Mr.",
                  "3": "Lucy",
                  "5": "Harrington",
                  "7": "Metropolitan Sports Supply",
                  "8": "adventure-works\\shu0",
                  "9": "lucy0@adventure-works.com",
                  "10": "828-555-0186",
                  "11": "KJqV15wsX3PG8TS5GSddp6LFFVdd3CoRftZM/tP0+R4=",
                  "12": "cNFKU4w=",
                  "13": "83905bdc-6f5e-4f71-b162-c98da069f38a",
                  "14": "2006-09-01 00:00:00.0000000"
                },
                {
                  "0": "6",
                  "1": "False",
                  "2": "Ms.",
                  "3": "Rosmarie",
                  "4": "J.",
                  "5": "Carroll",
                  "7": "Aerobic Exercise Company",
                  "8": "adventure-works\\linda3",
                  "9": "rosmarie0@adventure-works.com",
                  "10": "244-555-0112",
                  "11": "OKT0scizCdIzymHHOtyJKQiC/fCILSooSZ8dQ2Y34VM=",
                  "12": "ihWf50M=",
                  "13": "1a92df88-bfa2-467d-bd54-fcb9e647fdd7",
                  "14": "2007-09-01 00:00:00.0000000"
                },
                {
                  "0": "7",
                  "1": "False",
                  "2": "Mr.",
                  "3": "Dominic",
                  "4": "P.",
                  "5": "Gash",
                  "7": "Associated Bikes",
                  "8": "adventure-works\\shu0",
                  "9": "dominic0@adventure-works.com",
                  "10": "192-555-0173",
                  "11": "ZccoP/jZGQm+Xpzc7RKwDhS11YFNybwcPVRYTSNcnSg=",
                  "12": "sPoUBSQ=",
                  "13": "03e9273e-b193-448e-9823-fe0c44aeed78",
                  "14": "2006-07-01 00:00:00.0000000"
                },
                {
                  "0": "10",
                  "1": "False",
                  "2": "Ms.",
                  "3": "Kathleen",
                  "4": "M.",
                  "5": "Garza",
                  "7": "Rural Cycle Emporium",
                  "8": "adventure-works\\josé1",
                  "9": "kathleen0@adventure-works.com",
                  "10": "150-555-0127",
                  "11": "Qa3aMCxNbVLGrc0b99KsbQqiVgwYDfHcsK9GZSUxcTM=",
                  "12": "Ls05W3g=",
                  "13": "cdb6698d-2ff1-4fba-8f22-60ad1d11dabd",
                  "14": "2006-09-01 00:00:00.0000000"
                },
                {
                  "0": "11",
                  "1": "False",
                  "2": "Ms.",
                  "3": "Katherine",
                  "5": "Harding",
                  "7": "Sharp Bikes",
                  "8": "adventure-works\\josé1",
                  "9": "katherine0@adventure-works.com",
                  "10": "926-555-0159",
                  "11": "uRlorVzDGNJIX9I+ehTlRK+liT4UKRgWhApJgUMC2d4=",
                  "12": "jpHKbqE=",
                  "13": "750f3495-59c4-48a0-80e1-e37ec60e77d9",
                  "14": "2005-08-01 00:00:00.0000000"
                },
                {
                  "0": "12",
                  "1": "False",
                  "2": "Mr.",
                  "3": "Johnny",
                  "4": "A.",
                  "5": "Caprio",
                  "6": "Jr.",
                  "7": "Bikes and Motorbikes",
                  "8": "adventure-works\\garrett1",
                  "9": "johnny0@adventure-works.com",
                  "10": "112-555-0191",
                  "11": "jtF9jBoFYeJTaET7x+eJDkd7BzMz15Wo9odbGPBaIak=",
                  "12": "wVLnvHo=",
                  "13": "947bcaf1-1f32-44f3-b9c3-0011f95fbe54",
                  "14": "2006-08-01 00:00:00.0000000"
                }
              ],
              "schema": [
                {
                  "key": "0",
                  "name": "CustomerID",
                  "type": "string"
                },
                {
                  "key": "1",
                  "name": "NameStyle",
                  "type": "string"
                },
                {
                  "key": "2",
                  "name": "Title",
                  "type": "string"
                },
                {
                  "key": "3",
                  "name": "FirstName",
                  "type": "string"
                },
                {
                  "key": "4",
                  "name": "MiddleName",
                  "type": "string"
                },
                {
                  "key": "5",
                  "name": "LastName",
                  "type": "string"
                },
                {
                  "key": "6",
                  "name": "Suffix",
                  "type": "string"
                },
                {
                  "key": "7",
                  "name": "CompanyName",
                  "type": "string"
                },
                {
                  "key": "8",
                  "name": "SalesPerson",
                  "type": "string"
                },
                {
                  "key": "9",
                  "name": "EmailAddress",
                  "type": "string"
                },
                {
                  "key": "10",
                  "name": "Phone",
                  "type": "string"
                },
                {
                  "key": "11",
                  "name": "PasswordHash",
                  "type": "string"
                },
                {
                  "key": "12",
                  "name": "PasswordSalt",
                  "type": "string"
                },
                {
                  "key": "13",
                  "name": "rowguid",
                  "type": "string"
                },
                {
                  "key": "14",
                  "name": "ModifiedDate",
                  "type": "string"
                }
              ],
              "truncated": false
            },
            "isSummary": false,
            "language": "scala"
          },
          "persist_state": {
            "view": {
              "type": "details",
              "tableOptions": {},
              "chartOptions": {
                "chartType": "bar",
                "aggregationType": "count",
                "categoryFieldKeys": [
                  "0"
                ],
                "seriesFieldKeys": [
                  "0"
                ],
                "isStacked": false
              }
            }
          }
        },
        "fd70514e-8638-4799-81ed-ba5e0f9530ea": {
          "type": "Synapse.DataFrame",
          "sync_state": {
            "table": {
              "rows": [
                {
                  "0": "1",
                  "1": "False",
                  "2": "Mr.",
                  "3": "Orlando",
                  "4": "N.",
                  "5": "Gee",
                  "7": "A Bike Store",
                  "8": "adventure-works\\pamela0",
                  "9": "orlando0@adventure-works.com",
                  "10": "512-951-0482",
                  "11": "L/Rlwxzp4w7RWmEgXX+/A7cXaePEPcp+KwQhl2fJL7w=",
                  "12": "1KjXYs4=",
                  "13": "3f5ae95e-b87d-4aed-95b4-c3797afcb74f",
                  "14": "2005-08-01 00:00:00.0000000"
                },
                {
                  "0": "2",
                  "1": "False",
                  "2": "Mr.",
                  "3": "Keith",
                  "5": "Harris",
                  "7": "Progressive Sports",
                  "8": "adventure-works\\david8",
                  "9": "keith0@adventure-works.com",
                  "10": "928-465-6035",
                  "11": "YPdtRdvqeAhj6wyxEsFdshBDNXxkCXn+CRgbvJItknw=",
                  "12": "fs1ZGhY=",
                  "13": "e552f657-a9af-4a7d-a645-c429d6e02491",
                  "14": "2006-08-01 00:00:00.0000000"
                },
                {
                  "0": "3",
                  "1": "False",
                  "2": "Ms.",
                  "3": "Donna",
                  "4": "F.",
                  "5": "Carreras",
                  "7": "Advanced Bike Components",
                  "8": "adventure-works\\jillian0",
                  "9": "donna0@adventure-works.com",
                  "10": "435-456-4832",
                  "11": "LNoK27abGQo48gGue3EBV/UrlYSToV0/s87dCRV7uJk=",
                  "12": "YTNH5Rw=",
                  "13": "130774b1-db21-4ef3-98c8-c104bcd6ed6d",
                  "14": "2005-09-01 00:00:00.0000000"
                },
                {
                  "0": "4",
                  "1": "False",
                  "2": "Ms.",
                  "3": "Janet",
                  "4": "M.",
                  "5": "Gates",
                  "7": "Modular Cycle Systems",
                  "8": "adventure-works\\jillian0",
                  "9": "janet1@adventure-works.com",
                  "10": "948-841-0482",
                  "11": "ElzTpSNbUW1Ut+L5cWlfR7MF6nBZia8WpmGaQPjLOJA=",
                  "12": "nm7D5e4=",
                  "13": "ff862851-1daa-4044-be7c-3e85583c054d",
                  "14": "2006-07-01 00:00:00.0000000"
                },
                {
                  "0": "5",
                  "1": "False",
                  "2": "Mr.",
                  "3": "Lucy",
                  "5": "Harrington",
                  "7": "Metropolitan Sports Supply",
                  "8": "adventure-works\\shu0",
                  "9": "lucy0@adventure-works.com",
                  "10": "927-310-8475",
                  "11": "KJqV15wsX3PG8TS5GSddp6LFFVdd3CoRftZM/tP0+R4=",
                  "12": "cNFKU4w=",
                  "13": "83905bdc-6f5e-4f71-b162-c98da069f38a",
                  "14": "2006-09-01 00:00:00.0000000"
                },
                {
                  "0": "6",
                  "1": "False",
                  "2": "Ms.",
                  "3": "Rosmarie",
                  "4": "J.",
                  "5": "Carroll",
                  "7": "Aerobic Exercise Company",
                  "8": "adventure-works\\linda3",
                  "9": "rosmarie0@adventure-works.com",
                  "10": "906-799-9781",
                  "11": "OKT0scizCdIzymHHOtyJKQiC/fCILSooSZ8dQ2Y34VM=",
                  "12": "ihWf50M=",
                  "13": "1a92df88-bfa2-467d-bd54-fcb9e647fdd7",
                  "14": "2007-09-01 00:00:00.0000000"
                },
                {
                  "0": "7",
                  "1": "False",
                  "2": "Mr.",
                  "3": "Dominic",
                  "4": "P.",
                  "5": "Gash",
                  "7": "Associated Bikes",
                  "8": "adventure-works\\shu0",
                  "9": "dominic0@adventure-works.com",
                  "10": "450-131-0482",
                  "11": "ZccoP/jZGQm+Xpzc7RKwDhS11YFNybwcPVRYTSNcnSg=",
                  "12": "sPoUBSQ=",
                  "13": "03e9273e-b193-448e-9823-fe0c44aeed78",
                  "14": "2006-07-01 00:00:00.0000000"
                },
                {
                  "0": "10",
                  "1": "False",
                  "2": "Ms.",
                  "3": "Kathleen",
                  "4": "M.",
                  "5": "Garza",
                  "7": "Rural Cycle Emporium",
                  "8": "adventure-works\\josé1",
                  "9": "kathleen0@adventure-works.com",
                  "10": "533-345-6035",
                  "11": "Qa3aMCxNbVLGrc0b99KsbQqiVgwYDfHcsK9GZSUxcTM=",
                  "12": "Ls05W3g=",
                  "13": "cdb6698d-2ff1-4fba-8f22-60ad1d11dabd",
                  "14": "2006-09-01 00:00:00.0000000"
                },
                {
                  "0": "11",
                  "1": "False",
                  "2": "Ms.",
                  "3": "Katherine",
                  "5": "Harding",
                  "7": "Sharp Bikes",
                  "8": "adventure-works\\josé1",
                  "9": "katherine0@adventure-works.com",
                  "10": "219-645-4426",
                  "11": "uRlorVzDGNJIX9I+ehTlRK+liT4UKRgWhApJgUMC2d4=",
                  "12": "jpHKbqE=",
                  "13": "750f3495-59c4-48a0-80e1-e37ec60e77d9",
                  "14": "2005-08-01 00:00:00.0000000"
                },
                {
                  "0": "12",
                  "1": "False",
                  "2": "Mr.",
                  "3": "Johnny",
                  "4": "A.",
                  "5": "Caprio",
                  "6": "Jr.",
                  "7": "Bikes and Motorbikes",
                  "8": "adventure-works\\garrett1",
                  "9": "johnny0@adventure-works.com",
                  "10": "593-527-2607",
                  "11": "jtF9jBoFYeJTaET7x+eJDkd7BzMz15Wo9odbGPBaIak=",
                  "12": "wVLnvHo=",
                  "13": "947bcaf1-1f32-44f3-b9c3-0011f95fbe54",
                  "14": "2006-08-01 00:00:00.0000000"
                }
              ],
              "schema": [
                {
                  "key": "0",
                  "name": "CustomerID",
                  "type": "string"
                },
                {
                  "key": "1",
                  "name": "NameStyle",
                  "type": "string"
                },
                {
                  "key": "2",
                  "name": "Title",
                  "type": "string"
                },
                {
                  "key": "3",
                  "name": "FirstName",
                  "type": "string"
                },
                {
                  "key": "4",
                  "name": "MiddleName",
                  "type": "string"
                },
                {
                  "key": "5",
                  "name": "LastName",
                  "type": "string"
                },
                {
                  "key": "6",
                  "name": "Suffix",
                  "type": "string"
                },
                {
                  "key": "7",
                  "name": "CompanyName",
                  "type": "string"
                },
                {
                  "key": "8",
                  "name": "SalesPerson",
                  "type": "string"
                },
                {
                  "key": "9",
                  "name": "EmailAddress",
                  "type": "string"
                },
                {
                  "key": "10",
                  "name": "Phone",
                  "type": "string"
                },
                {
                  "key": "11",
                  "name": "PasswordHash",
                  "type": "string"
                },
                {
                  "key": "12",
                  "name": "PasswordSalt",
                  "type": "string"
                },
                {
                  "key": "13",
                  "name": "rowguid",
                  "type": "string"
                },
                {
                  "key": "14",
                  "name": "ModifiedDate",
                  "type": "string"
                }
              ],
              "truncated": false
            },
            "isSummary": false,
            "language": "scala"
          },
          "persist_state": {
            "view": {
              "type": "details",
              "tableOptions": {},
              "chartOptions": {
                "chartType": "bar",
                "aggregationType": "count",
                "categoryFieldKeys": [
                  "0"
                ],
                "seriesFieldKeys": [
                  "0"
                ],
                "isStacked": false
              }
            }
          }
        }
      }
    }
  },
  "nbformat": 4,
  "nbformat_minor": 2
}
