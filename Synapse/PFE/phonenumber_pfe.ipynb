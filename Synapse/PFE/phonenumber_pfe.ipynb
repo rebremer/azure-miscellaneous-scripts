{
  "cells": [
    {
      "cell_type": "code",
      "source": [
        "%%pyspark\r\n",
        "#df = spark.read.load.('abfss://bronze@testhmacmaskstor.dfs.core.windows.net/SalesLT.Customer.txt', format='text', header='true')\r\n",
        "df = spark.read.option(\"header\",True).csv('abfss://bronze@testhmacmaskstor.dfs.core.windows.net/SalesLT.Customer.txt')\r\n",
        "\r\n",
        "display(df.limit(10))"
      ],
      "outputs": [
        {
          "output_type": "display_data",
          "data": {
            "application/vnd.livy.statement-meta+json": {
              "spark_pool": "testhmacspark",
              "session_id": "23",
              "statement_id": 77,
              "state": "finished",
              "livy_statement_state": "available",
              "queued_time": "2023-03-25T15:06:04.8347077Z",
              "session_start_time": null,
              "execution_start_time": "2023-03-25T15:06:04.9711814Z",
              "execution_finish_time": "2023-03-25T15:06:06.1605588Z",
              "spark_jobs": null,
              "parent_msg_id": "90f5973f-a58e-4bf8-976e-91cfffdf96ea"
            },
            "text/plain": "StatementMeta(testhmacspark, 23, 77, Finished, Available)"
          },
          "metadata": {}
        },
        {
          "output_type": "display_data",
          "data": {
            "application/vnd.synapse.widget-view+json": {
              "widget_id": "0de35eb7-677f-4189-870b-3503f9b29567",
              "widget_type": "Synapse.DataFrame"
            },
            "text/plain": "SynapseWidget(Synapse.DataFrame, 0de35eb7-677f-4189-870b-3503f9b29567)"
          },
          "metadata": {}
        }
      ],
      "execution_count": 77,
      "metadata": {
        "microsoft": {
          "language": "python"
        },
        "collapsed": false
      }
    },
    {
      "cell_type": "markdown",
      "source": [],
      "metadata": {
        "nteract": {
          "transient": {
            "deleting": false
          }
        }
      }
    },
    {
      "cell_type": "code",
      "source": [
        "import hashlib\r\n",
        "def fun_lst_10_hash():\r\n",
        "\r\n",
        "    secret= TokenLibrary.getSecret('test-hmacmask-akv', 'username', 'AzureKeyVaultHMAC')\r\n",
        "    lst_10 = list(range(0,10))\r\n",
        "    lst_10_hash =[]\r\n",
        "    for item in lst_10:\r\n",
        "        value = str(item) + secret\r\n",
        "        encoded_value = str.encode(value)\r\n",
        "        hash_obj_sha256 = hashlib.sha256(encoded_value).hexdigest()\r\n",
        "\r\n",
        "        lst_10_hash.append(str(hash_obj_sha256))\r\n",
        "        lst_10_hash.sort()\r\n",
        "    return lst_10_hash\r\n",
        "\r\n",
        "def fun_lst_100_hash():\r\n",
        "\r\n",
        "    secret= TokenLibrary.getSecret('test-hmacmask-akv', 'username', 'AzureKeyVaultHMAC')\r\n",
        "    lst_100 = list(range(0,100))\r\n",
        "    lst_100_hash =[]\r\n",
        "    for item in lst_100:\r\n",
        "\r\n",
        "        if item < 10:\r\n",
        "            value = \"0\" + str(item) +  secret\r\n",
        "        else:\r\n",
        "            value = str(item) + secret\r\n",
        "        encoded_value = str.encode(value)\r\n",
        "        hash_obj_sha256 = hashlib.sha256(encoded_value).hexdigest()\r\n",
        "\r\n",
        "        lst_100_hash.append(str(hash_obj_sha256))\r\n",
        "        lst_100_hash.sort()\r\n",
        "    return lst_100_hash\r\n",
        "#\r\n",
        "\r\n",
        "def fun_lst_1000_hash():\r\n",
        "\r\n",
        "    secret= TokenLibrary.getSecret('test-hmacmask-akv', 'username', 'AzureKeyVaultHMAC')\r\n",
        "    lst_1000 = list(range(0,1000))\r\n",
        "    lst_1000_hash =[]\r\n",
        "    for item in lst_1000:\r\n",
        "\r\n",
        "        if item < 10:\r\n",
        "            value = \"00\" + str(item) + secret\r\n",
        "        elif item < 100:\r\n",
        "            value = \"0\" + str(item) +  secret   \r\n",
        "        else:\r\n",
        "            value = str(item) + secret\r\n",
        "\r\n",
        "        encoded_value = str.encode(value)\r\n",
        "        hash_obj_sha256 = hashlib.sha256(encoded_value).hexdigest()\r\n",
        "\r\n",
        "        lst_1000_hash.append(str(hash_obj_sha256))\r\n",
        "        lst_1000_hash.sort()\r\n",
        "    return lst_1000_hash\r\n",
        "\r\n",
        "def fun_lst_10000_hash():\r\n",
        "\r\n",
        "    secret= TokenLibrary.getSecret('test-hmacmask-akv', 'username', 'AzureKeyVaultHMAC')\r\n",
        "    lst_10000 = list(range(0,10000))\r\n",
        "    lst_10000_hash =[]\r\n",
        "    for item in lst_10000:\r\n",
        "\r\n",
        "        if item < 10:\r\n",
        "            value = \"000\" + str(item) + secret\r\n",
        "        elif item < 100:\r\n",
        "            value = \"00\" + str(item) +  secret   \r\n",
        "        elif item < 1000:\r\n",
        "            value = \"0\" + str(item) +  secret   \r\n",
        "        else:\r\n",
        "            value = str(item) + secret\r\n",
        "\r\n",
        "        encoded_value = str.encode(value)\r\n",
        "        hash_obj_sha256 = hashlib.sha256(encoded_value).hexdigest()\r\n",
        "\r\n",
        "        lst_10000_hash.append(str(hash_obj_sha256))\r\n",
        "        lst_10000_hash.sort()\r\n",
        "    return lst_10000_hash\r\n",
        "\r\n",
        "lst_10_hash = fun_lst_10_hash()\r\n",
        "lst_100_hash = fun_lst_100_hash()\r\n",
        "lst_1000_hash = fun_lst_1000_hash()\r\n",
        "lst_10000_hash = fun_lst_10000_hash()"
      ],
      "outputs": [
        {
          "output_type": "display_data",
          "data": {
            "application/vnd.livy.statement-meta+json": {
              "spark_pool": "testhmacspark",
              "session_id": "23",
              "statement_id": 78,
              "state": "finished",
              "livy_statement_state": "available",
              "queued_time": "2023-03-25T15:06:10.9217183Z",
              "session_start_time": null,
              "execution_start_time": "2023-03-25T15:06:11.0658421Z",
              "execution_finish_time": "2023-03-25T15:06:12.2381731Z",
              "spark_jobs": null,
              "parent_msg_id": "93c2acaa-c19c-488d-93e6-8165b550d9f0"
            },
            "text/plain": "StatementMeta(testhmacspark, 23, 78, Finished, Available)"
          },
          "metadata": {}
        }
      ],
      "execution_count": 78,
      "metadata": {
        "jupyter": {
          "source_hidden": false,
          "outputs_hidden": false
        },
        "nteract": {
          "transient": {
            "deleting": false
          }
        }
      }
    },
    {
      "cell_type": "code",
      "source": [
        "def mask_func(col_val):\r\n",
        "    col_val_pfe_raw = \"\"\r\n",
        "    dummy_val_string_array = \"\"\r\n",
        "    for i, val in enumerate(col_val):\r\n",
        "        if val.isnumeric():\r\n",
        "            dummy_val_string_array += str(val)\r\n",
        "\r\n",
        "        if len(dummy_val_string_array) == 4:\r\n",
        "            value = dummy_val_string_array + secret\r\n",
        "            encoded_value = str.encode(value)\r\n",
        "            hash_obj_sha256 = hashlib.sha256(encoded_value).hexdigest()\r\n",
        "            index_pfe = lst_10000_hash.index(hash_obj_sha256)\r\n",
        "            if index_pfe < 10:\r\n",
        "                value_pfe = \"000\" + str(index_pfe)\r\n",
        "            elif index_pfe < 100:\r\n",
        "                value_pfe = \"00\" + str(index_pfe)\r\n",
        "            elif index_pfe < 1000:\r\n",
        "                value_pfe = \"0\" + str(index_pfe)           \r\n",
        "            else:\r\n",
        "                value_pfe = str(index_pfe)   \r\n",
        "            \r\n",
        "            col_val_pfe_raw += value_pfe\r\n",
        "            dummy_val_string_array = \"\"\r\n",
        "        elif i == len(col_val) - 1:\r\n",
        "            if len(dummy_val_string_array) == 3:\r\n",
        "                value = dummy_val_string_array + secret\r\n",
        "                encoded_value = str.encode(value)\r\n",
        "                hash_obj_sha256 = hashlib.sha256(encoded_value).hexdigest()\r\n",
        "                index_pfe = lst_1000_hash.index(hash_obj_sha256)\r\n",
        "                if index_pfe < 10:\r\n",
        "                    value_pfe = \"00\" + str(index_pfe)\r\n",
        "                elif index_pfe < 100:\r\n",
        "                    value_pfe = \"0\" + str(index_pfe)\r\n",
        "                else:\r\n",
        "                    value_pfe = str(index_pfe)   \r\n",
        "                col_val_pfe_raw += value_pfe\r\n",
        "                dummy_val_string_array = \"\"\r\n",
        "            elif len(dummy_val_string_array) == 2:\r\n",
        "                value = dummy_val_string_array + secret\r\n",
        "                encoded_value = str.encode(value)\r\n",
        "                hash_obj_sha256 = hashlib.sha256(encoded_value).hexdigest()\r\n",
        "                index_pfe = lst_100_hash.index(hash_obj_sha256)\r\n",
        "                if index_pfe < 10:\r\n",
        "                    value_pfe = \"0\" + str(index_pfe)\r\n",
        "                else:\r\n",
        "                    value_pfe = str(index_pfe)   \r\n",
        "                col_val_pfe_raw += value_pfe\r\n",
        "                dummy_val_string_array = \"\"\r\n",
        "            elif len(dummy_val_string_array) == 1:\r\n",
        "                value = dummy_val_string_array + secret\r\n",
        "                encoded_value = str.encode(value)\r\n",
        "                hash_obj_sha256 = hashlib.sha256(encoded_value).hexdigest()\r\n",
        "                index_pfe = lst_10_hash.index(hash_obj_sha256)\r\n",
        "                value_pfe = str(index_pfe)   \r\n",
        "                col_val_pfe_raw += value_pfe\r\n",
        "                dummy_val_string_array = \"\"\r\n",
        "\r\n",
        "    col_val_pfe = \"\"\r\n",
        "    non_numeric = 0\r\n",
        "    for j, val in enumerate(col_val):\r\n",
        "        if not(val.isnumeric()):\r\n",
        "            col_val_pfe += col_val[j]\r\n",
        "            non_numeric += 1\r\n",
        "        else:\r\n",
        "            col_val_pfe += col_val_pfe_raw[j-non_numeric]\r\n",
        "    \r\n",
        "    return col_val_pfe\r\n",
        "\r\n",
        "\r\n",
        "phone = \"111-222-333\"\r\n",
        "\r\n",
        "phone_pfe = mask_func(phone)\r\n",
        "print(phone_pfe)"
      ],
      "outputs": [
        {
          "output_type": "display_data",
          "data": {
            "application/vnd.livy.statement-meta+json": {
              "spark_pool": "testhmacspark",
              "session_id": "23",
              "statement_id": 67,
              "state": "finished",
              "livy_statement_state": "available",
              "queued_time": "2023-03-25T14:55:36.1644361Z",
              "session_start_time": null,
              "execution_start_time": "2023-03-25T14:55:36.3076166Z",
              "execution_finish_time": "2023-03-25T14:55:36.4923942Z",
              "spark_jobs": null,
              "parent_msg_id": "458d5997-5a7b-4f87-8c3f-27fd7c27cbbf"
            },
            "text/plain": "StatementMeta(testhmacspark, 23, 67, Finished, Available)"
          },
          "metadata": {}
        },
        {
          "output_type": "stream",
          "name": "stdout",
          "text": [
            "927-169-506\n"
          ]
        }
      ],
      "execution_count": 67,
      "metadata": {
        "jupyter": {
          "source_hidden": false,
          "outputs_hidden": false
        },
        "nteract": {
          "transient": {
            "deleting": false
          }
        }
      }
    },
    {
      "cell_type": "code",
      "source": [
        "# https://tunetotech.com/Post.aspx?post=9\r\n",
        "from pyspark.sql.functions import udf\r\n",
        "from pyspark.sql.types import StringType\r\n",
        "#\r\n",
        "mask_func_udf = udf(mask_func, StringType())\r\n",
        "df2=df.withColumn('Phone', mask_func_udf(df.Phone))\r\n",
        "\r\n",
        "display(df2.limit(10))"
      ],
      "outputs": [
        {
          "output_type": "display_data",
          "data": {
            "application/vnd.livy.statement-meta+json": {
              "spark_pool": "testhmacspark",
              "session_id": "23",
              "statement_id": 79,
              "state": "finished",
              "livy_statement_state": "available",
              "queued_time": "2023-03-25T15:06:17.165231Z",
              "session_start_time": null,
              "execution_start_time": "2023-03-25T15:06:17.3086508Z",
              "execution_finish_time": "2023-03-25T15:06:18.0311218Z",
              "spark_jobs": null,
              "parent_msg_id": "3b0b66b9-8dfb-40d6-be33-a05be0391dae"
            },
            "text/plain": "StatementMeta(testhmacspark, 23, 79, Finished, Available)"
          },
          "metadata": {}
        },
        {
          "output_type": "display_data",
          "data": {
            "application/vnd.synapse.widget-view+json": {
              "widget_id": "e3c2a727-92d2-4942-8a9f-57205e861405",
              "widget_type": "Synapse.DataFrame"
            },
            "text/plain": "SynapseWidget(Synapse.DataFrame, e3c2a727-92d2-4942-8a9f-57205e861405)"
          },
          "metadata": {}
        }
      ],
      "execution_count": 79,
      "metadata": {
        "jupyter": {
          "source_hidden": false,
          "outputs_hidden": false
        },
        "nteract": {
          "transient": {
            "deleting": false
          }
        },
        "collapsed": false
      }
    },
    {
      "cell_type": "code",
      "source": [
        "df2.write.mode(\"overwrite\").option(\"header\",\"true\").csv('abfss://gold@testhmacmaskstor.dfs.core.windows.net/SalesLT.Customer_masked.txt')"
      ],
      "outputs": [
        {
          "output_type": "display_data",
          "data": {
            "application/vnd.livy.statement-meta+json": {
              "spark_pool": "testhmacspark",
              "session_id": "23",
              "statement_id": 80,
              "state": "finished",
              "livy_statement_state": "available",
              "queued_time": "2023-03-25T15:06:23.7656317Z",
              "session_start_time": null,
              "execution_start_time": "2023-03-25T15:06:23.9353469Z",
              "execution_finish_time": "2023-03-25T15:06:25.0962452Z",
              "spark_jobs": null,
              "parent_msg_id": "0a45fbdc-d365-4874-b755-a1850444e0dc"
            },
            "text/plain": "StatementMeta(testhmacspark, 23, 80, Finished, Available)"
          },
          "metadata": {}
        }
      ],
      "execution_count": 80,
      "metadata": {
        "jupyter": {
          "source_hidden": false,
          "outputs_hidden": false
        },
        "nteract": {
          "transient": {
            "deleting": false
          }
        }
      }
    }
  ],
  "metadata": {
    "kernelspec": {
      "name": "synapse_pyspark",
      "language": "Python",
      "display_name": "Synapse PySpark"
    },
    "language_info": {
      "name": "python"
    },
    "kernel_info": {
      "name": "synapse_pyspark"
    },
    "description": null,
    "save_output": true,
    "synapse_widget": {
      "version": "0.1",
      "state": {
        "0de35eb7-677f-4189-870b-3503f9b29567": {
          "type": "Synapse.DataFrame",
          "sync_state": {
            "table": {
              "rows": [
                {
                  "0": "1",
                  "1": "False",
                  "2": "Mr.",
                  "3": "Orlando",
                  "4": "N.",
                  "5": "Gee",
                  "7": "A Bike Store",
                  "8": "adventure-works\\pamela0",
                  "9": "orlando0@adventure-works.com",
                  "10": "245-555-0173",
                  "11": "L/Rlwxzp4w7RWmEgXX+/A7cXaePEPcp+KwQhl2fJL7w=",
                  "12": "1KjXYs4=",
                  "13": "3f5ae95e-b87d-4aed-95b4-c3797afcb74f",
                  "14": "2005-08-01 00:00:00.0000000"
                },
                {
                  "0": "2",
                  "1": "False",
                  "2": "Mr.",
                  "3": "Keith",
                  "5": "Harris",
                  "7": "Progressive Sports",
                  "8": "adventure-works\\david8",
                  "9": "keith0@adventure-works.com",
                  "10": "170-555-0127",
                  "11": "YPdtRdvqeAhj6wyxEsFdshBDNXxkCXn+CRgbvJItknw=",
                  "12": "fs1ZGhY=",
                  "13": "e552f657-a9af-4a7d-a645-c429d6e02491",
                  "14": "2006-08-01 00:00:00.0000000"
                },
                {
                  "0": "3",
                  "1": "False",
                  "2": "Ms.",
                  "3": "Donna",
                  "4": "F.",
                  "5": "Carreras",
                  "7": "Advanced Bike Components",
                  "8": "adventure-works\\jillian0",
                  "9": "donna0@adventure-works.com",
                  "10": "279-555-0130",
                  "11": "LNoK27abGQo48gGue3EBV/UrlYSToV0/s87dCRV7uJk=",
                  "12": "YTNH5Rw=",
                  "13": "130774b1-db21-4ef3-98c8-c104bcd6ed6d",
                  "14": "2005-09-01 00:00:00.0000000"
                },
                {
                  "0": "4",
                  "1": "False",
                  "2": "Ms.",
                  "3": "Janet",
                  "4": "M.",
                  "5": "Gates",
                  "7": "Modular Cycle Systems",
                  "8": "adventure-works\\jillian0",
                  "9": "janet1@adventure-works.com",
                  "10": "710-555-0173",
                  "11": "ElzTpSNbUW1Ut+L5cWlfR7MF6nBZia8WpmGaQPjLOJA=",
                  "12": "nm7D5e4=",
                  "13": "ff862851-1daa-4044-be7c-3e85583c054d",
                  "14": "2006-07-01 00:00:00.0000000"
                },
                {
                  "0": "5",
                  "1": "False",
                  "2": "Mr.",
                  "3": "Lucy",
                  "5": "Harrington",
                  "7": "Metropolitan Sports Supply",
                  "8": "adventure-works\\shu0",
                  "9": "lucy0@adventure-works.com",
                  "10": "828-555-0186",
                  "11": "KJqV15wsX3PG8TS5GSddp6LFFVdd3CoRftZM/tP0+R4=",
                  "12": "cNFKU4w=",
                  "13": "83905bdc-6f5e-4f71-b162-c98da069f38a",
                  "14": "2006-09-01 00:00:00.0000000"
                },
                {
                  "0": "6",
                  "1": "False",
                  "2": "Ms.",
                  "3": "Rosmarie",
                  "4": "J.",
                  "5": "Carroll",
                  "7": "Aerobic Exercise Company",
                  "8": "adventure-works\\linda3",
                  "9": "rosmarie0@adventure-works.com",
                  "10": "244-555-0112",
                  "11": "OKT0scizCdIzymHHOtyJKQiC/fCILSooSZ8dQ2Y34VM=",
                  "12": "ihWf50M=",
                  "13": "1a92df88-bfa2-467d-bd54-fcb9e647fdd7",
                  "14": "2007-09-01 00:00:00.0000000"
                },
                {
                  "0": "7",
                  "1": "False",
                  "2": "Mr.",
                  "3": "Dominic",
                  "4": "P.",
                  "5": "Gash",
                  "7": "Associated Bikes",
                  "8": "adventure-works\\shu0",
                  "9": "dominic0@adventure-works.com",
                  "10": "192-555-0173",
                  "11": "ZccoP/jZGQm+Xpzc7RKwDhS11YFNybwcPVRYTSNcnSg=",
                  "12": "sPoUBSQ=",
                  "13": "03e9273e-b193-448e-9823-fe0c44aeed78",
                  "14": "2006-07-01 00:00:00.0000000"
                },
                {
                  "0": "10",
                  "1": "False",
                  "2": "Ms.",
                  "3": "Kathleen",
                  "4": "M.",
                  "5": "Garza",
                  "7": "Rural Cycle Emporium",
                  "8": "adventure-works\\josé1",
                  "9": "kathleen0@adventure-works.com",
                  "10": "150-555-0127",
                  "11": "Qa3aMCxNbVLGrc0b99KsbQqiVgwYDfHcsK9GZSUxcTM=",
                  "12": "Ls05W3g=",
                  "13": "cdb6698d-2ff1-4fba-8f22-60ad1d11dabd",
                  "14": "2006-09-01 00:00:00.0000000"
                },
                {
                  "0": "11",
                  "1": "False",
                  "2": "Ms.",
                  "3": "Katherine",
                  "5": "Harding",
                  "7": "Sharp Bikes",
                  "8": "adventure-works\\josé1",
                  "9": "katherine0@adventure-works.com",
                  "10": "926-555-0159",
                  "11": "uRlorVzDGNJIX9I+ehTlRK+liT4UKRgWhApJgUMC2d4=",
                  "12": "jpHKbqE=",
                  "13": "750f3495-59c4-48a0-80e1-e37ec60e77d9",
                  "14": "2005-08-01 00:00:00.0000000"
                },
                {
                  "0": "12",
                  "1": "False",
                  "2": "Mr.",
                  "3": "Johnny",
                  "4": "A.",
                  "5": "Caprio",
                  "6": "Jr.",
                  "7": "Bikes and Motorbikes",
                  "8": "adventure-works\\garrett1",
                  "9": "johnny0@adventure-works.com",
                  "10": "112-555-0191",
                  "11": "jtF9jBoFYeJTaET7x+eJDkd7BzMz15Wo9odbGPBaIak=",
                  "12": "wVLnvHo=",
                  "13": "947bcaf1-1f32-44f3-b9c3-0011f95fbe54",
                  "14": "2006-08-01 00:00:00.0000000"
                }
              ],
              "schema": [
                {
                  "key": "0",
                  "name": "CustomerID",
                  "type": "string"
                },
                {
                  "key": "1",
                  "name": "NameStyle",
                  "type": "string"
                },
                {
                  "key": "2",
                  "name": "Title",
                  "type": "string"
                },
                {
                  "key": "3",
                  "name": "FirstName",
                  "type": "string"
                },
                {
                  "key": "4",
                  "name": "MiddleName",
                  "type": "string"
                },
                {
                  "key": "5",
                  "name": "LastName",
                  "type": "string"
                },
                {
                  "key": "6",
                  "name": "Suffix",
                  "type": "string"
                },
                {
                  "key": "7",
                  "name": "CompanyName",
                  "type": "string"
                },
                {
                  "key": "8",
                  "name": "SalesPerson",
                  "type": "string"
                },
                {
                  "key": "9",
                  "name": "EmailAddress",
                  "type": "string"
                },
                {
                  "key": "10",
                  "name": "Phone",
                  "type": "string"
                },
                {
                  "key": "11",
                  "name": "PasswordHash",
                  "type": "string"
                },
                {
                  "key": "12",
                  "name": "PasswordSalt",
                  "type": "string"
                },
                {
                  "key": "13",
                  "name": "rowguid",
                  "type": "string"
                },
                {
                  "key": "14",
                  "name": "ModifiedDate",
                  "type": "string"
                }
              ],
              "truncated": false
            },
            "isSummary": false,
            "language": "scala"
          },
          "persist_state": {
            "view": {
              "type": "details",
              "tableOptions": {},
              "chartOptions": {
                "chartType": "bar",
                "aggregationType": "count",
                "categoryFieldKeys": [
                  "0"
                ],
                "seriesFieldKeys": [
                  "0"
                ],
                "isStacked": false
              }
            }
          }
        },
        "e3c2a727-92d2-4942-8a9f-57205e861405": {
          "type": "Synapse.DataFrame",
          "sync_state": {
            "table": {
              "rows": [
                {
                  "0": "1",
                  "1": "False",
                  "2": "Mr.",
                  "3": "Orlando",
                  "4": "N.",
                  "5": "Gee",
                  "7": "A Bike Store",
                  "8": "adventure-works\\pamela0",
                  "9": "orlando0@adventure-works.com",
                  "10": "461-090-9460",
                  "11": "L/Rlwxzp4w7RWmEgXX+/A7cXaePEPcp+KwQhl2fJL7w=",
                  "12": "1KjXYs4=",
                  "13": "3f5ae95e-b87d-4aed-95b4-c3797afcb74f",
                  "14": "2005-08-01 00:00:00.0000000"
                },
                {
                  "0": "2",
                  "1": "False",
                  "2": "Mr.",
                  "3": "Keith",
                  "5": "Harris",
                  "7": "Progressive Sports",
                  "8": "adventure-works\\david8",
                  "9": "keith0@adventure-works.com",
                  "10": "144-190-9481",
                  "11": "YPdtRdvqeAhj6wyxEsFdshBDNXxkCXn+CRgbvJItknw=",
                  "12": "fs1ZGhY=",
                  "13": "e552f657-a9af-4a7d-a645-c429d6e02491",
                  "14": "2006-08-01 00:00:00.0000000"
                },
                {
                  "0": "3",
                  "1": "False",
                  "2": "Ms.",
                  "3": "Donna",
                  "4": "F.",
                  "5": "Carreras",
                  "7": "Advanced Bike Components",
                  "8": "adventure-works\\jillian0",
                  "9": "donna0@adventure-works.com",
                  "10": "358-090-9493",
                  "11": "LNoK27abGQo48gGue3EBV/UrlYSToV0/s87dCRV7uJk=",
                  "12": "YTNH5Rw=",
                  "13": "130774b1-db21-4ef3-98c8-c104bcd6ed6d",
                  "14": "2005-09-01 00:00:00.0000000"
                },
                {
                  "0": "4",
                  "1": "False",
                  "2": "Ms.",
                  "3": "Janet",
                  "4": "M.",
                  "5": "Gates",
                  "7": "Modular Cycle Systems",
                  "8": "adventure-works\\jillian0",
                  "9": "janet1@adventure-works.com",
                  "10": "322-790-9460",
                  "11": "ElzTpSNbUW1Ut+L5cWlfR7MF6nBZia8WpmGaQPjLOJA=",
                  "12": "nm7D5e4=",
                  "13": "ff862851-1daa-4044-be7c-3e85583c054d",
                  "14": "2006-07-01 00:00:00.0000000"
                },
                {
                  "0": "5",
                  "1": "False",
                  "2": "Mr.",
                  "3": "Lucy",
                  "5": "Harrington",
                  "7": "Metropolitan Sports Supply",
                  "8": "adventure-works\\shu0",
                  "9": "lucy0@adventure-works.com",
                  "10": "458-890-9455",
                  "11": "KJqV15wsX3PG8TS5GSddp6LFFVdd3CoRftZM/tP0+R4=",
                  "12": "cNFKU4w=",
                  "13": "83905bdc-6f5e-4f71-b162-c98da069f38a",
                  "14": "2006-09-01 00:00:00.0000000"
                },
                {
                  "0": "6",
                  "1": "False",
                  "2": "Ms.",
                  "3": "Rosmarie",
                  "4": "J.",
                  "5": "Carroll",
                  "7": "Aerobic Exercise Company",
                  "8": "adventure-works\\linda3",
                  "9": "rosmarie0@adventure-works.com",
                  "10": "431-290-9418",
                  "11": "OKT0scizCdIzymHHOtyJKQiC/fCILSooSZ8dQ2Y34VM=",
                  "12": "ihWf50M=",
                  "13": "1a92df88-bfa2-467d-bd54-fcb9e647fdd7",
                  "14": "2007-09-01 00:00:00.0000000"
                },
                {
                  "0": "7",
                  "1": "False",
                  "2": "Mr.",
                  "3": "Dominic",
                  "4": "P.",
                  "5": "Gash",
                  "7": "Associated Bikes",
                  "8": "adventure-works\\shu0",
                  "9": "dominic0@adventure-works.com",
                  "10": "736-890-9460",
                  "11": "ZccoP/jZGQm+Xpzc7RKwDhS11YFNybwcPVRYTSNcnSg=",
                  "12": "sPoUBSQ=",
                  "13": "03e9273e-b193-448e-9823-fe0c44aeed78",
                  "14": "2006-07-01 00:00:00.0000000"
                },
                {
                  "0": "10",
                  "1": "False",
                  "2": "Ms.",
                  "3": "Kathleen",
                  "4": "M.",
                  "5": "Garza",
                  "7": "Rural Cycle Emporium",
                  "8": "adventure-works\\josé1",
                  "9": "kathleen0@adventure-works.com",
                  "10": "591-390-9481",
                  "11": "Qa3aMCxNbVLGrc0b99KsbQqiVgwYDfHcsK9GZSUxcTM=",
                  "12": "Ls05W3g=",
                  "13": "cdb6698d-2ff1-4fba-8f22-60ad1d11dabd",
                  "14": "2006-09-01 00:00:00.0000000"
                },
                {
                  "0": "11",
                  "1": "False",
                  "2": "Ms.",
                  "3": "Katherine",
                  "5": "Harding",
                  "7": "Sharp Bikes",
                  "8": "adventure-works\\josé1",
                  "9": "katherine0@adventure-works.com",
                  "10": "102-290-9400",
                  "11": "uRlorVzDGNJIX9I+ehTlRK+liT4UKRgWhApJgUMC2d4=",
                  "12": "jpHKbqE=",
                  "13": "750f3495-59c4-48a0-80e1-e37ec60e77d9",
                  "14": "2005-08-01 00:00:00.0000000"
                },
                {
                  "0": "12",
                  "1": "False",
                  "2": "Mr.",
                  "3": "Johnny",
                  "4": "A.",
                  "5": "Caprio",
                  "6": "Jr.",
                  "7": "Bikes and Motorbikes",
                  "8": "adventure-works\\garrett1",
                  "9": "johnny0@adventure-works.com",
                  "10": "900-690-9491",
                  "11": "jtF9jBoFYeJTaET7x+eJDkd7BzMz15Wo9odbGPBaIak=",
                  "12": "wVLnvHo=",
                  "13": "947bcaf1-1f32-44f3-b9c3-0011f95fbe54",
                  "14": "2006-08-01 00:00:00.0000000"
                }
              ],
              "schema": [
                {
                  "key": "0",
                  "name": "CustomerID",
                  "type": "string"
                },
                {
                  "key": "1",
                  "name": "NameStyle",
                  "type": "string"
                },
                {
                  "key": "2",
                  "name": "Title",
                  "type": "string"
                },
                {
                  "key": "3",
                  "name": "FirstName",
                  "type": "string"
                },
                {
                  "key": "4",
                  "name": "MiddleName",
                  "type": "string"
                },
                {
                  "key": "5",
                  "name": "LastName",
                  "type": "string"
                },
                {
                  "key": "6",
                  "name": "Suffix",
                  "type": "string"
                },
                {
                  "key": "7",
                  "name": "CompanyName",
                  "type": "string"
                },
                {
                  "key": "8",
                  "name": "SalesPerson",
                  "type": "string"
                },
                {
                  "key": "9",
                  "name": "EmailAddress",
                  "type": "string"
                },
                {
                  "key": "10",
                  "name": "Phone",
                  "type": "string"
                },
                {
                  "key": "11",
                  "name": "PasswordHash",
                  "type": "string"
                },
                {
                  "key": "12",
                  "name": "PasswordSalt",
                  "type": "string"
                },
                {
                  "key": "13",
                  "name": "rowguid",
                  "type": "string"
                },
                {
                  "key": "14",
                  "name": "ModifiedDate",
                  "type": "string"
                }
              ],
              "truncated": false
            },
            "isSummary": false,
            "language": "scala"
          },
          "persist_state": {
            "view": {
              "type": "details",
              "tableOptions": {},
              "chartOptions": {
                "chartType": "bar",
                "aggregationType": "count",
                "categoryFieldKeys": [
                  "0"
                ],
                "seriesFieldKeys": [
                  "0"
                ],
                "isStacked": false
              }
            }
          }
        }
      }
    }
  },
  "nbformat": 4,
  "nbformat_minor": 2
}
