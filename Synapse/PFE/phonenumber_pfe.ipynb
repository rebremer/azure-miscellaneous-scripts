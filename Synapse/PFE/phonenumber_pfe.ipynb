{
  "cells": [
    {
      "cell_type": "code",
      "source": [
        "%%pyspark\r\n",
        "#df = spark.read.load.('abfss://bronze@testhmacmaskstor.dfs.core.windows.net/SalesLT.Customer.txt', format='text', header='true')\r\n",
        "df = spark.read.option(\"header\",True).csv('abfss://bronze@testhmacmaskstor.dfs.core.windows.net/SalesLT.Customer.txt')\r\n",
        "\r\n",
        "display(df.limit(10))"
      ],
      "outputs": [
        {
          "output_type": "display_data",
          "data": {
            "application/vnd.livy.statement-meta+json": {
              "spark_pool": "testhmacspark",
              "session_id": "25",
              "statement_id": 1,
              "state": "finished",
              "livy_statement_state": "available",
              "queued_time": "2023-03-29T10:38:47.1441728Z",
              "session_start_time": "2023-03-29T10:38:47.207972Z",
              "execution_start_time": "2023-03-29T10:42:31.0964172Z",
              "execution_finish_time": "2023-03-29T10:42:54.9998618Z",
              "spark_jobs": null,
              "parent_msg_id": "96f83d02-61b9-48d1-a15a-acdfeeee8ad8"
            },
            "text/plain": "StatementMeta(testhmacspark, 25, 1, Finished, Available)"
          },
          "metadata": {}
        },
        {
          "output_type": "display_data",
          "data": {
            "application/vnd.synapse.widget-view+json": {
              "widget_id": "fe058107-1b77-40b8-bbb2-b05f62d782c1",
              "widget_type": "Synapse.DataFrame"
            },
            "text/plain": "SynapseWidget(Synapse.DataFrame, fe058107-1b77-40b8-bbb2-b05f62d782c1)"
          },
          "metadata": {}
        }
      ],
      "execution_count": 55,
      "metadata": {
        "microsoft": {
          "language": "python"
        },
        "collapsed": false
      }
    },
    {
      "cell_type": "markdown",
      "source": [],
      "metadata": {
        "nteract": {
          "transient": {
            "deleting": false
          }
        }
      }
    },
    {
      "cell_type": "code",
      "source": [
        "import hashlib\r\n",
        "def fun_lst_hash(size, secret):\r\n",
        "\r\n",
        "    lst = list(range(0,size))\r\n",
        "    lst_hash =[]\r\n",
        "    for item in lst:\r\n",
        "\r\n",
        "        value = str(item).rjust(len(str(size))-1, '0') + secret\r\n",
        "        encoded_value = str.encode(value)\r\n",
        "        hash_obj_sha256 = hashlib.sha256(encoded_value).hexdigest()\r\n",
        "\r\n",
        "        lst_hash.append(str(hash_obj_sha256))\r\n",
        "        lst_hash.sort()\r\n",
        "    return lst_hash\r\n",
        "\r\n",
        "secret10 = TokenLibrary.getSecret('test-hmacmask-akv', 'secret10', 'AzureKeyVaultHMAC')\r\n",
        "lst_10_hash = fun_lst_hash(10, secret10)\r\n",
        "#\r\n",
        "secret100 = TokenLibrary.getSecret('test-hmacmask-akv', 'secret100', 'AzureKeyVaultHMAC')\r\n",
        "lst_100_hash = fun_lst_hash(100, secret100)\r\n",
        "#\r\n",
        "secret1000 = TokenLibrary.getSecret('test-hmacmask-akv', 'secret1000', 'AzureKeyVaultHMAC')\r\n",
        "lst_1000_hash = fun_lst_hash(1000, secret1000)\r\n",
        "#\r\n",
        "secret10000 = TokenLibrary.getSecret('test-hmacmask-akv', 'secret10000', 'AzureKeyVaultHMAC')\r\n",
        "lst_10000_hash = fun_lst_hash(10000, secret10000)\r\n",
        "#\r\n",
        "secret100000 = TokenLibrary.getSecret('test-hmacmask-akv', 'secret100000', 'AzureKeyVaultHMAC')\r\n",
        "lst_100000_hash = fun_lst_hash(100000, secret100000)\r\n",
        "#\r\n",
        "secrets_all = [secret10, secret100, secret1000, secret10000, secret100000]\r\n",
        "lst_hash_all = [lst_10_hash, lst_100_hash, lst_1000_hash, lst_10000_hash, lst_100000_hash]\r\n"
      ],
      "outputs": [
        {
          "output_type": "display_data",
          "data": {
            "application/vnd.livy.statement-meta+json": {
              "spark_pool": "testhmacspark",
              "session_id": "25",
              "statement_id": 2,
              "state": "submitted",
              "livy_statement_state": "running",
              "queued_time": "2023-03-29T10:58:36.5016314Z",
              "session_start_time": "2023-03-29T10:58:36.5964205Z",
              "execution_start_time": "2023-03-29T10:58:36.7587805Z",
              "execution_finish_time": null,
              "spark_jobs": null,
              "parent_msg_id": "525f7f1b-6aab-4aab-a48f-3e2761d4b129"
            },
            "text/plain": "StatementMeta(testhmacspark, 25, 2, Submitted, Running)"
          },
          "metadata": {}
        }
      ],
      "execution_count": 56,
      "metadata": {
        "jupyter": {
          "source_hidden": false,
          "outputs_hidden": false
        },
        "nteract": {
          "transient": {
            "deleting": false
          }
        }
      }
    },
    {
      "cell_type": "code",
      "source": [
        "def mask_func(col_val):\r\n",
        "    col_val_pfe_raw = \"\"\r\n",
        "    dummy_val_string_array = \"\"\r\n",
        "    for i, val in enumerate(col_val):\r\n",
        "        if val.isnumeric():\r\n",
        "            dummy_val_string_array += str(val)\r\n",
        "\r\n",
        "        if len(dummy_val_string_array) == 5 or i == len(col_val) - 1:\r\n",
        "            # either max length of substring is reached or end of string is reached, start obfuscating string\r\n",
        "            value = dummy_val_string_array + secrets_all[len(dummy_val_string_array)-1]\r\n",
        "            encoded_value = str.encode(value)\r\n",
        "            hash_obj_sha256 = hashlib.sha256(encoded_value).hexdigest()\r\n",
        "            index_pfe = lst_hash_all[len(dummy_val_string_array)-1].index(hash_obj_sha256)\r\n",
        "            value_pfe = str(index_pfe).rjust(len(dummy_val_string_array), '0')\r\n",
        "            col_val_pfe_raw += value_pfe\r\n",
        "            dummy_val_string_array = \"\"\r\n",
        "\r\n",
        "    col_val_pfe = \"\"\r\n",
        "    non_numeric = 0\r\n",
        "    for j, val in enumerate(col_val):\r\n",
        "        if not(val.isnumeric()):\r\n",
        "            col_val_pfe += col_val[j]\r\n",
        "            non_numeric += 1\r\n",
        "        else:\r\n",
        "            col_val_pfe += col_val_pfe_raw[j-non_numeric]\r\n",
        "    \r\n",
        "    return col_val_pfe\r\n",
        "\r\n",
        "\r\n",
        "phone = \"00000\"\r\n",
        "\r\n",
        "phone_pfe = mask_func(phone)\r\n",
        "print(phone_pfe)\r\n",
        "#print(lst_100000_hash)"
      ],
      "outputs": [
        {
          "output_type": "display_data",
          "data": {
            "application/vnd.livy.statement-meta+json": {
              "spark_pool": "testhmacspark",
              "session_id": "25",
              "statement_id": 3,
              "state": "finished",
              "livy_statement_state": "available",
              "queued_time": "2023-03-29T11:03:27.4822158Z",
              "session_start_time": null,
              "execution_start_time": "2023-03-29T11:03:27.6784385Z",
              "execution_finish_time": "2023-03-29T11:03:27.9268403Z",
              "spark_jobs": null,
              "parent_msg_id": "d4a39660-ae64-489f-a9d2-7768535d8610"
            },
            "text/plain": "StatementMeta(testhmacspark, 25, 3, Finished, Available)"
          },
          "metadata": {}
        },
        {
          "output_type": "stream",
          "name": "stdout",
          "text": [
            "00406\n"
          ]
        }
      ],
      "execution_count": 57,
      "metadata": {
        "jupyter": {
          "source_hidden": false,
          "outputs_hidden": false
        },
        "nteract": {
          "transient": {
            "deleting": false
          }
        }
      }
    },
    {
      "cell_type": "code",
      "source": [
        "# https://tunetotech.com/Post.aspx?post=9\r\n",
        "from pyspark.sql.functions import udf\r\n",
        "from pyspark.sql.types import StringType\r\n",
        "#\r\n",
        "mask_func_udf = udf(mask_func, StringType())\r\n",
        "df2=df.withColumn('Phone', mask_func_udf(df.Phone))\r\n",
        "\r\n",
        "display(df2.limit(100))"
      ],
      "outputs": [
        {
          "output_type": "display_data",
          "data": {
            "application/vnd.livy.statement-meta+json": {
              "spark_pool": "testhmacspark",
              "session_id": "25",
              "statement_id": 4,
              "state": "finished",
              "livy_statement_state": "available",
              "queued_time": "2023-03-29T11:03:37.3141049Z",
              "session_start_time": null,
              "execution_start_time": "2023-03-29T11:03:37.4665795Z",
              "execution_finish_time": "2023-03-29T11:03:48.4418451Z",
              "spark_jobs": null,
              "parent_msg_id": "64948a42-b2ff-4ee1-8412-e4efbea5dc4e"
            },
            "text/plain": "StatementMeta(testhmacspark, 25, 4, Finished, Available)"
          },
          "metadata": {}
        },
        {
          "output_type": "display_data",
          "data": {
            "application/vnd.synapse.widget-view+json": {
              "widget_id": "936c7c90-8b49-4f8a-b162-e586fd2df294",
              "widget_type": "Synapse.DataFrame"
            },
            "text/plain": "SynapseWidget(Synapse.DataFrame, 936c7c90-8b49-4f8a-b162-e586fd2df294)"
          },
          "metadata": {}
        }
      ],
      "execution_count": 58,
      "metadata": {
        "jupyter": {
          "source_hidden": false,
          "outputs_hidden": false
        },
        "nteract": {
          "transient": {
            "deleting": false
          }
        },
        "collapsed": false
      }
    },
    {
      "cell_type": "code",
      "source": [
        "df2.write.mode(\"overwrite\").option(\"header\",\"true\").csv('abfss://gold@testhmacmaskstor.dfs.core.windows.net/SalesLT.Customer_masked.txt')"
      ],
      "outputs": [
        {
          "output_type": "display_data",
          "data": {
            "application/vnd.livy.statement-meta+json": {
              "spark_pool": "testhmacspark",
              "session_id": "24",
              "statement_id": 53,
              "state": "finished",
              "livy_statement_state": "available",
              "queued_time": "2023-03-29T07:57:31.9043272Z",
              "session_start_time": null,
              "execution_start_time": "2023-03-29T07:57:32.1309528Z",
              "execution_finish_time": "2023-03-29T07:57:36.2787629Z",
              "spark_jobs": null,
              "parent_msg_id": "232def4f-f2b7-4a3d-90de-25d577c1cc2e"
            },
            "text/plain": "StatementMeta(testhmacspark, 24, 53, Finished, Available)"
          },
          "metadata": {}
        }
      ],
      "execution_count": 53,
      "metadata": {
        "jupyter": {
          "source_hidden": false,
          "outputs_hidden": false
        },
        "nteract": {
          "transient": {
            "deleting": false
          }
        }
      }
    },
    {
      "cell_type": "code",
      "source": [],
      "outputs": [],
      "execution_count": null,
      "metadata": {
        "jupyter": {
          "source_hidden": false,
          "outputs_hidden": false
        },
        "nteract": {
          "transient": {
            "deleting": false
          }
        }
      }
    }
  ],
  "metadata": {
    "kernelspec": {
      "name": "synapse_pyspark",
      "language": "Python",
      "display_name": "Synapse PySpark"
    },
    "language_info": {
      "name": "python"
    },
    "kernel_info": {
      "name": "synapse_pyspark"
    },
    "description": null,
    "save_output": true,
    "synapse_widget": {
      "version": "0.1",
      "state": {
        "fe058107-1b77-40b8-bbb2-b05f62d782c1": {
          "type": "Synapse.DataFrame",
          "sync_state": {
            "table": {
              "rows": [
                {
                  "0": "1",
                  "1": "False",
                  "2": "Mr.",
                  "3": "Orlando",
                  "4": "N.",
                  "5": "Gee",
                  "7": "A Bike Store",
                  "8": "adventure-works\\pamela0",
                  "9": "orlando0@adventure-works.com",
                  "10": "245-555-0173",
                  "11": "L/Rlwxzp4w7RWmEgXX+/A7cXaePEPcp+KwQhl2fJL7w=",
                  "12": "1KjXYs4=",
                  "13": "3f5ae95e-b87d-4aed-95b4-c3797afcb74f",
                  "14": "2005-08-01 00:00:00.0000000"
                },
                {
                  "0": "2",
                  "1": "False",
                  "2": "Mr.",
                  "3": "Keith",
                  "5": "Harris",
                  "7": "Progressive Sports",
                  "8": "adventure-works\\david8",
                  "9": "keith0@adventure-works.com",
                  "10": "170-555-0127",
                  "11": "YPdtRdvqeAhj6wyxEsFdshBDNXxkCXn+CRgbvJItknw=",
                  "12": "fs1ZGhY=",
                  "13": "e552f657-a9af-4a7d-a645-c429d6e02491",
                  "14": "2006-08-01 00:00:00.0000000"
                },
                {
                  "0": "3",
                  "1": "False",
                  "2": "Ms.",
                  "3": "Donna",
                  "4": "F.",
                  "5": "Carreras",
                  "7": "Advanced Bike Components",
                  "8": "adventure-works\\jillian0",
                  "9": "donna0@adventure-works.com",
                  "10": "279-555-0130",
                  "11": "LNoK27abGQo48gGue3EBV/UrlYSToV0/s87dCRV7uJk=",
                  "12": "YTNH5Rw=",
                  "13": "130774b1-db21-4ef3-98c8-c104bcd6ed6d",
                  "14": "2005-09-01 00:00:00.0000000"
                },
                {
                  "0": "4",
                  "1": "False",
                  "2": "Ms.",
                  "3": "Janet",
                  "4": "M.",
                  "5": "Gates",
                  "7": "Modular Cycle Systems",
                  "8": "adventure-works\\jillian0",
                  "9": "janet1@adventure-works.com",
                  "10": "710-555-0173",
                  "11": "ElzTpSNbUW1Ut+L5cWlfR7MF6nBZia8WpmGaQPjLOJA=",
                  "12": "nm7D5e4=",
                  "13": "ff862851-1daa-4044-be7c-3e85583c054d",
                  "14": "2006-07-01 00:00:00.0000000"
                },
                {
                  "0": "5",
                  "1": "False",
                  "2": "Mr.",
                  "3": "Lucy",
                  "5": "Harrington",
                  "7": "Metropolitan Sports Supply",
                  "8": "adventure-works\\shu0",
                  "9": "lucy0@adventure-works.com",
                  "10": "828-555-0186",
                  "11": "KJqV15wsX3PG8TS5GSddp6LFFVdd3CoRftZM/tP0+R4=",
                  "12": "cNFKU4w=",
                  "13": "83905bdc-6f5e-4f71-b162-c98da069f38a",
                  "14": "2006-09-01 00:00:00.0000000"
                },
                {
                  "0": "6",
                  "1": "False",
                  "2": "Ms.",
                  "3": "Rosmarie",
                  "4": "J.",
                  "5": "Carroll",
                  "7": "Aerobic Exercise Company",
                  "8": "adventure-works\\linda3",
                  "9": "rosmarie0@adventure-works.com",
                  "10": "244-555-0112",
                  "11": "OKT0scizCdIzymHHOtyJKQiC/fCILSooSZ8dQ2Y34VM=",
                  "12": "ihWf50M=",
                  "13": "1a92df88-bfa2-467d-bd54-fcb9e647fdd7",
                  "14": "2007-09-01 00:00:00.0000000"
                },
                {
                  "0": "7",
                  "1": "False",
                  "2": "Mr.",
                  "3": "Dominic",
                  "4": "P.",
                  "5": "Gash",
                  "7": "Associated Bikes",
                  "8": "adventure-works\\shu0",
                  "9": "dominic0@adventure-works.com",
                  "10": "192-555-0173",
                  "11": "ZccoP/jZGQm+Xpzc7RKwDhS11YFNybwcPVRYTSNcnSg=",
                  "12": "sPoUBSQ=",
                  "13": "03e9273e-b193-448e-9823-fe0c44aeed78",
                  "14": "2006-07-01 00:00:00.0000000"
                },
                {
                  "0": "10",
                  "1": "False",
                  "2": "Ms.",
                  "3": "Kathleen",
                  "4": "M.",
                  "5": "Garza",
                  "7": "Rural Cycle Emporium",
                  "8": "adventure-works\\josé1",
                  "9": "kathleen0@adventure-works.com",
                  "10": "150-555-0127",
                  "11": "Qa3aMCxNbVLGrc0b99KsbQqiVgwYDfHcsK9GZSUxcTM=",
                  "12": "Ls05W3g=",
                  "13": "cdb6698d-2ff1-4fba-8f22-60ad1d11dabd",
                  "14": "2006-09-01 00:00:00.0000000"
                },
                {
                  "0": "11",
                  "1": "False",
                  "2": "Ms.",
                  "3": "Katherine",
                  "5": "Harding",
                  "7": "Sharp Bikes",
                  "8": "adventure-works\\josé1",
                  "9": "katherine0@adventure-works.com",
                  "10": "926-555-0159",
                  "11": "uRlorVzDGNJIX9I+ehTlRK+liT4UKRgWhApJgUMC2d4=",
                  "12": "jpHKbqE=",
                  "13": "750f3495-59c4-48a0-80e1-e37ec60e77d9",
                  "14": "2005-08-01 00:00:00.0000000"
                },
                {
                  "0": "12",
                  "1": "False",
                  "2": "Mr.",
                  "3": "Johnny",
                  "4": "A.",
                  "5": "Caprio",
                  "6": "Jr.",
                  "7": "Bikes and Motorbikes",
                  "8": "adventure-works\\garrett1",
                  "9": "johnny0@adventure-works.com",
                  "10": "112-555-0191",
                  "11": "jtF9jBoFYeJTaET7x+eJDkd7BzMz15Wo9odbGPBaIak=",
                  "12": "wVLnvHo=",
                  "13": "947bcaf1-1f32-44f3-b9c3-0011f95fbe54",
                  "14": "2006-08-01 00:00:00.0000000"
                }
              ],
              "schema": [
                {
                  "key": "0",
                  "name": "CustomerID",
                  "type": "string"
                },
                {
                  "key": "1",
                  "name": "NameStyle",
                  "type": "string"
                },
                {
                  "key": "2",
                  "name": "Title",
                  "type": "string"
                },
                {
                  "key": "3",
                  "name": "FirstName",
                  "type": "string"
                },
                {
                  "key": "4",
                  "name": "MiddleName",
                  "type": "string"
                },
                {
                  "key": "5",
                  "name": "LastName",
                  "type": "string"
                },
                {
                  "key": "6",
                  "name": "Suffix",
                  "type": "string"
                },
                {
                  "key": "7",
                  "name": "CompanyName",
                  "type": "string"
                },
                {
                  "key": "8",
                  "name": "SalesPerson",
                  "type": "string"
                },
                {
                  "key": "9",
                  "name": "EmailAddress",
                  "type": "string"
                },
                {
                  "key": "10",
                  "name": "Phone",
                  "type": "string"
                },
                {
                  "key": "11",
                  "name": "PasswordHash",
                  "type": "string"
                },
                {
                  "key": "12",
                  "name": "PasswordSalt",
                  "type": "string"
                },
                {
                  "key": "13",
                  "name": "rowguid",
                  "type": "string"
                },
                {
                  "key": "14",
                  "name": "ModifiedDate",
                  "type": "string"
                }
              ],
              "truncated": false
            },
            "isSummary": false,
            "language": "scala"
          },
          "persist_state": {
            "view": {
              "type": "details",
              "tableOptions": {},
              "chartOptions": {
                "chartType": "bar",
                "aggregationType": "count",
                "categoryFieldKeys": [
                  "0"
                ],
                "seriesFieldKeys": [
                  "0"
                ],
                "isStacked": false
              }
            }
          }
        },
        "936c7c90-8b49-4f8a-b162-e586fd2df294": {
          "type": "Synapse.DataFrame",
          "sync_state": {
            "table": {
              "rows": [
                {
                  "0": "1",
                  "1": "False",
                  "2": "Mr.",
                  "3": "Orlando",
                  "4": "N.",
                  "5": "Gee",
                  "7": "A Bike Store",
                  "8": "adventure-works\\pamela0",
                  "9": "orlando0@adventure-works.com",
                  "10": "051-295-0104",
                  "11": "L/Rlwxzp4w7RWmEgXX+/A7cXaePEPcp+KwQhl2fJL7w=",
                  "12": "1KjXYs4=",
                  "13": "3f5ae95e-b87d-4aed-95b4-c3797afcb74f",
                  "14": "2005-08-01 00:00:00.0000000"
                },
                {
                  "0": "2",
                  "1": "False",
                  "2": "Mr.",
                  "3": "Keith",
                  "5": "Harris",
                  "7": "Progressive Sports",
                  "8": "adventure-works\\david8",
                  "9": "keith0@adventure-works.com",
                  "10": "092-846-0560",
                  "11": "YPdtRdvqeAhj6wyxEsFdshBDNXxkCXn+CRgbvJItknw=",
                  "12": "fs1ZGhY=",
                  "13": "e552f657-a9af-4a7d-a645-c429d6e02491",
                  "14": "2006-08-01 00:00:00.0000000"
                },
                {
                  "0": "3",
                  "1": "False",
                  "2": "Ms.",
                  "3": "Donna",
                  "4": "F.",
                  "5": "Carreras",
                  "7": "Advanced Bike Components",
                  "8": "adventure-works\\jillian0",
                  "9": "donna0@adventure-works.com",
                  "10": "043-545-0648",
                  "11": "LNoK27abGQo48gGue3EBV/UrlYSToV0/s87dCRV7uJk=",
                  "12": "YTNH5Rw=",
                  "13": "130774b1-db21-4ef3-98c8-c104bcd6ed6d",
                  "14": "2005-09-01 00:00:00.0000000"
                },
                {
                  "0": "4",
                  "1": "False",
                  "2": "Ms.",
                  "3": "Janet",
                  "4": "M.",
                  "5": "Gates",
                  "7": "Modular Cycle Systems",
                  "8": "adventure-works\\jillian0",
                  "9": "janet1@adventure-works.com",
                  "10": "094-884-0104",
                  "11": "ElzTpSNbUW1Ut+L5cWlfR7MF6nBZia8WpmGaQPjLOJA=",
                  "12": "nm7D5e4=",
                  "13": "ff862851-1daa-4044-be7c-3e85583c054d",
                  "14": "2006-07-01 00:00:00.0000000"
                },
                {
                  "0": "5",
                  "1": "False",
                  "2": "Mr.",
                  "3": "Lucy",
                  "5": "Harrington",
                  "7": "Metropolitan Sports Supply",
                  "8": "adventure-works\\shu0",
                  "9": "lucy0@adventure-works.com",
                  "10": "092-731-0084",
                  "11": "KJqV15wsX3PG8TS5GSddp6LFFVdd3CoRftZM/tP0+R4=",
                  "12": "cNFKU4w=",
                  "13": "83905bdc-6f5e-4f71-b162-c98da069f38a",
                  "14": "2006-09-01 00:00:00.0000000"
                },
                {
                  "0": "6",
                  "1": "False",
                  "2": "Ms.",
                  "3": "Rosmarie",
                  "4": "J.",
                  "5": "Carroll",
                  "7": "Aerobic Exercise Company",
                  "8": "adventure-works\\linda3",
                  "9": "rosmarie0@adventure-works.com",
                  "10": "090-679-0997",
                  "11": "OKT0scizCdIzymHHOtyJKQiC/fCILSooSZ8dQ2Y34VM=",
                  "12": "ihWf50M=",
                  "13": "1a92df88-bfa2-467d-bd54-fcb9e647fdd7",
                  "14": "2007-09-01 00:00:00.0000000"
                },
                {
                  "0": "7",
                  "1": "False",
                  "2": "Mr.",
                  "3": "Dominic",
                  "4": "P.",
                  "5": "Gash",
                  "7": "Associated Bikes",
                  "8": "adventure-works\\shu0",
                  "9": "dominic0@adventure-works.com",
                  "10": "045-013-0104",
                  "11": "ZccoP/jZGQm+Xpzc7RKwDhS11YFNybwcPVRYTSNcnSg=",
                  "12": "sPoUBSQ=",
                  "13": "03e9273e-b193-448e-9823-fe0c44aeed78",
                  "14": "2006-07-01 00:00:00.0000000"
                },
                {
                  "0": "10",
                  "1": "False",
                  "2": "Ms.",
                  "3": "Kathleen",
                  "4": "M.",
                  "5": "Garza",
                  "7": "Rural Cycle Emporium",
                  "8": "adventure-works\\josé1",
                  "9": "kathleen0@adventure-works.com",
                  "10": "053-334-0560",
                  "11": "Qa3aMCxNbVLGrc0b99KsbQqiVgwYDfHcsK9GZSUxcTM=",
                  "12": "Ls05W3g=",
                  "13": "cdb6698d-2ff1-4fba-8f22-60ad1d11dabd",
                  "14": "2006-09-01 00:00:00.0000000"
                },
                {
                  "0": "11",
                  "1": "False",
                  "2": "Ms.",
                  "3": "Katherine",
                  "5": "Harding",
                  "7": "Sharp Bikes",
                  "8": "adventure-works\\josé1",
                  "9": "katherine0@adventure-works.com",
                  "10": "021-964-0544",
                  "11": "uRlorVzDGNJIX9I+ehTlRK+liT4UKRgWhApJgUMC2d4=",
                  "12": "jpHKbqE=",
                  "13": "750f3495-59c4-48a0-80e1-e37ec60e77d9",
                  "14": "2005-08-01 00:00:00.0000000"
                },
                {
                  "0": "12",
                  "1": "False",
                  "2": "Mr.",
                  "3": "Johnny",
                  "4": "A.",
                  "5": "Caprio",
                  "6": "Jr.",
                  "7": "Bikes and Motorbikes",
                  "8": "adventure-works\\garrett1",
                  "9": "johnny0@adventure-works.com",
                  "10": "059-352-0726",
                  "11": "jtF9jBoFYeJTaET7x+eJDkd7BzMz15Wo9odbGPBaIak=",
                  "12": "wVLnvHo=",
                  "13": "947bcaf1-1f32-44f3-b9c3-0011f95fbe54",
                  "14": "2006-08-01 00:00:00.0000000"
                },
                {
                  "0": "16",
                  "1": "False",
                  "2": "Mr.",
                  "3": "Christopher",
                  "4": "R.",
                  "5": "Beck",
                  "6": "Jr.",
                  "7": "Bulk Discount Store",
                  "8": "adventure-works\\jae0",
                  "9": "christopher1@adventure-works.com",
                  "10": "0 (84) 233 089-0650",
                  "11": "sKt9daCzEEKWAzivEGPOp8tmaM1R3I+aJfcBjzJRFLo=",
                  "12": "8KfYx/4=",
                  "13": "c9381589-d31c-4efe-8978-8d3449eb1f0f",
                  "14": "2006-09-01 00:00:00.0000000"
                },
                {
                  "0": "18",
                  "1": "False",
                  "2": "Mr.",
                  "3": "David",
                  "4": "J.",
                  "5": "Liu",
                  "7": "Catalog Store",
                  "8": "adventure-works\\michael9",
                  "9": "david20@adventure-works.com",
                  "10": "025-964-0960",
                  "11": "61zeTkO+eI5g8GG0swny8Wp/6GzZMFnT71fnW4lTHNY=",
                  "12": "c7Ttvv0=",
                  "13": "c04d6b4d-94c6-4c5c-a44c-b449c0ac1b45",
                  "14": "2005-08-01 00:00:00.0000000"
                },
                {
                  "0": "19",
                  "1": "False",
                  "2": "Mr.",
                  "3": "John",
                  "4": "A.",
                  "5": "Beaver",
                  "7": "Center Cycle Shop",
                  "8": "adventure-works\\pamela0",
                  "9": "john8@adventure-works.com",
                  "10": "042-270-0434",
                  "11": "DzbqWX7B3EK5Dub92CKHYSUGKGbZCbrcVDpVe/xyBeI=",
                  "12": "zXNgrJw=",
                  "13": "69ae5d43-31be-4b76-bfbb-5a23c4788bbc",
                  "14": "2007-04-01 00:00:00.0000000"
                },
                {
                  "0": "20",
                  "1": "False",
                  "2": "Ms.",
                  "3": "Jean",
                  "4": "P.",
                  "5": "Handley",
                  "7": "Central Discount Store",
                  "8": "adventure-works\\david8",
                  "9": "jean1@adventure-works.com",
                  "10": "098-251-0512",
                  "11": "o1GVo3vExeNzo0/ctdRGf2eDK3uzTlcUbr18tN+Slf8=",
                  "12": "uMsvfdo=",
                  "13": "e010c10a-f1c3-4bba-81ca-a7e083350400",
                  "14": "2005-09-01 00:00:00.0000000"
                },
                {
                  "0": "21",
                  "1": "False",
                  "3": "Jinghao",
                  "5": "Liu",
                  "7": "Chic Department Stores",
                  "8": "adventure-works\\jillian0",
                  "9": "jinghao1@adventure-works.com",
                  "10": "081-888-0993",
                  "11": "IaD5AeqK9mRiIrJi/etZGVO6EiybLf/oksA2CqrpoJ0=",
                  "12": "p6pOqKc=",
                  "13": "564e0b42-4609-43de-9881-914da433d82d",
                  "14": "2006-09-01 00:00:00.0000000"
                },
                {
                  "0": "22",
                  "1": "False",
                  "2": "Ms.",
                  "3": "Linda",
                  "4": "E.",
                  "5": "Burnett",
                  "7": "Travel Systems",
                  "8": "adventure-works\\jillian0",
                  "9": "linda4@adventure-works.com",
                  "10": "076-271-0381",
                  "11": "23AwhujCoXYSPiN/B+G8Z9rk36xl35EbdLT7akTMTqU=",
                  "12": "SmyIPjE=",
                  "13": "9774aed6-d673-412d-b481-2573e470b478",
                  "14": "2005-08-01 00:00:00.0000000"
                },
                {
                  "0": "23",
                  "1": "False",
                  "2": "Mr.",
                  "3": "Kerim",
                  "5": "Hanif",
                  "7": "Bike World",
                  "8": "adventure-works\\shu0",
                  "9": "kerim0@adventure-works.com",
                  "10": "031-764-0134",
                  "11": "d0WSjosAd7Y3XOWjNAkoTClCb50vwPuAawOSI1iosgs=",
                  "12": "33g5co8=",
                  "13": "733f8250-3251-4c2a-8c85-c285bb76b7b4",
                  "14": "2006-09-01 00:00:00.0000000"
                },
                {
                  "0": "24",
                  "1": "False",
                  "2": "Mr.",
                  "3": "Kevin",
                  "5": "Liu",
                  "7": "Eastside Department Store",
                  "8": "adventure-works\\linda3",
                  "9": "kevin5@adventure-works.com",
                  "10": "021-964-0760",
                  "11": "ylTpkIOHKLcjihNjS0j/k10eOHOsWQMNhlbuOCp+UTY=",
                  "12": "TgZnUOg=",
                  "13": "c111e51d-178d-4dbd-a6ff-f1ccbf4b1aad",
                  "14": "2006-09-01 00:00:00.0000000"
                },
                {
                  "0": "25",
                  "1": "False",
                  "2": "Mr.",
                  "3": "Donald",
                  "4": "L.",
                  "5": "Blanton",
                  "7": "Coalition Bike Company",
                  "8": "adventure-works\\shu0",
                  "9": "donald0@adventure-works.com",
                  "10": "064-590-0538",
                  "11": "pKYDelLBOZMO98GBzhMxBSzzE0gUYKx9dXzYTYNuBgw=",
                  "12": "jKtOaOw=",
                  "13": "31d03546-fb2a-4488-890e-4709a659e3f0",
                  "14": "2006-09-01 00:00:00.0000000"
                },
                {
                  "0": "28",
                  "1": "False",
                  "2": "Ms.",
                  "3": "Jackie",
                  "4": "E.",
                  "5": "Blackwell",
                  "7": "Commuter Bicycle Store",
                  "8": "adventure-works\\josé1",
                  "9": "jackie0@adventure-works.com",
                  "10": "045-897-0812",
                  "11": "wqhgKfOTfef4Zo3cb6FwsFzvG/yCVstuYh3AuwjRszQ=",
                  "12": "SZ+r60o=",
                  "13": "9b8a04a4-d909-4f49-b1c5-3de317d69b2a",
                  "14": "2007-08-01 00:00:00.0000000"
                },
                {
                  "0": "29",
                  "1": "False",
                  "2": "Mr.",
                  "3": "Bryan",
                  "5": "Hamilton",
                  "7": "Cross-Country Riding Supplies",
                  "8": "adventure-works\\josé1",
                  "9": "bryan2@adventure-works.com",
                  "10": "070-636-0031",
                  "11": "ftRWIIT4oF+if+ddn1ROYXHw6PAooKFX3uALZ0uEU98=",
                  "12": "IRNPDIw=",
                  "13": "eca7c8fa-490b-4b97-9c32-043c90f789e8",
                  "14": "2005-08-01 00:00:00.0000000"
                },
                {
                  "0": "30",
                  "1": "False",
                  "2": "Mr.",
                  "3": "Todd",
                  "4": "R.",
                  "5": "Logan",
                  "7": "Cycle Merchants",
                  "8": "adventure-works\\garrett1",
                  "9": "todd0@adventure-works.com",
                  "10": "097-388-0112",
                  "11": "FV6z03ywMJOumcU+TEoL/Z/s4YP2fe8B3MJUUTA0CHU=",
                  "12": "mFRhaEg=",
                  "13": "2b15dfb1-831e-49e7-b337-395798b129e7",
                  "14": "2006-09-01 00:00:00.0000000"
                },
                {
                  "0": "34",
                  "1": "False",
                  "2": "Ms.",
                  "3": "Barbara",
                  "4": "J.",
                  "5": "German",
                  "7": "Cycles Wholesaler & Mfg.",
                  "8": "adventure-works\\jae0",
                  "9": "barbara4@adventure-works.com",
                  "10": "0 (84) 233 089-0650",
                  "11": "2Pyd3S3Os61yt+lfSjMgSDNwT1LL4Qs51m1ob42We40=",
                  "12": "Jvsxxrg=",
                  "13": "9edda794-7862-4ff4-b8e2-528847cab2bd",
                  "14": "2007-07-01 00:00:00.0000000"
                },
                {
                  "0": "37",
                  "1": "False",
                  "2": "Mr.",
                  "3": "Jim",
                  "5": "Geist",
                  "7": "Two Bike Shops",
                  "8": "adventure-works\\pamela0",
                  "9": "jim1@adventure-works.com",
                  "10": "068-433-0538",
                  "11": "cvqeC4fJcKwJ9jlluiWvK5/MyuSi8neLnjFDGdvzJy4=",
                  "12": "ot8WcXk=",
                  "13": "c6ebb29a-cc67-459c-90e3-339e0f912906",
                  "14": "2006-09-01 00:00:00.0000000"
                },
                {
                  "0": "38",
                  "1": "False",
                  "2": "Ms.",
                  "3": "Betty",
                  "4": "M.",
                  "5": "Haines",
                  "7": "Finer Mart",
                  "8": "adventure-works\\david8",
                  "9": "betty0@adventure-works.com",
                  "10": "063-511-0299",
                  "11": "Q/nGAVzOO1ZT/4+BQ1kwltqQyzycLA2GGmDmBBxLMnM=",
                  "12": "6IvcbVg=",
                  "13": "e5eda3f3-4ef1-4806-bd36-e61f3cb2e044",
                  "14": "2007-09-01 00:00:00.0000000"
                },
                {
                  "0": "39",
                  "1": "False",
                  "2": "Ms.",
                  "3": "Sharon",
                  "4": "J.",
                  "5": "Looney",
                  "7": "Fitness Hotel",
                  "8": "adventure-works\\jillian0",
                  "9": "sharon2@adventure-works.com",
                  "10": "081-334-0960",
                  "11": "Uo3kAuNh936QfPTIfPt6I6Z3+olLMRu5IC5awuzDaG8=",
                  "12": "uHgb0IU=",
                  "13": "6808b1ed-3c9a-401d-b284-9ac31166d9eb",
                  "14": "2006-09-01 00:00:00.0000000"
                },
                {
                  "0": "40",
                  "1": "False",
                  "2": "Mr.",
                  "3": "Darren",
                  "5": "Gehring",
                  "7": "Journey Sporting Goods",
                  "8": "adventure-works\\jillian0",
                  "9": "darren0@adventure-works.com",
                  "10": "077-970-0080",
                  "11": "kqptixZ7LqTuOKcc7ylpabWrgWr5BDXa2fpkDxEwaCY=",
                  "12": "Xe7grug=",
                  "13": "aa5e28f6-16c8-4d80-894e-17531f2cf972",
                  "14": "2005-08-01 00:00:00.0000000"
                },
                {
                  "0": "41",
                  "1": "False",
                  "2": "Ms.",
                  "3": "Erin",
                  "4": "M.",
                  "5": "Hagens",
                  "7": "Distant Inn",
                  "8": "adventure-works\\shu0",
                  "9": "erin1@adventure-works.com",
                  "10": "090-679-0560",
                  "11": "92Sfw/bl0dUJO9SAfoKn452VJcstSo2lgAbSPk97nRA=",
                  "12": "8soIcx8=",
                  "13": "e1ba20ed-da19-4392-a8a8-c2e670438ffb",
                  "14": "2006-07-01 00:00:00.0000000"
                },
                {
                  "0": "42",
                  "1": "False",
                  "2": "Mr.",
                  "3": "Jeremy",
                  "5": "Los",
                  "7": "Healthy Activity Store",
                  "8": "adventure-works\\linda3",
                  "9": "jeremy0@adventure-works.com",
                  "10": "015-824-0902",
                  "11": "jLMkpmNutZFzWw7sSWZeqd91vtlRwaWx2Ub21mhsvlU=",
                  "12": "JK9/WX8=",
                  "13": "64acd300-337d-4d39-a2c4-fd5972611934",
                  "14": "2006-07-01 00:00:00.0000000"
                },
                {
                  "0": "43",
                  "1": "False",
                  "2": "Ms.",
                  "3": "Elsa",
                  "5": "Leavitt",
                  "7": "Frugal Bike Shop",
                  "8": "adventure-works\\shu0",
                  "9": "elsa0@adventure-works.com",
                  "10": "037-679-0245",
                  "11": "BmJaM+147GrhU00kNTtaTolp0EJcarJK/SCfew4ZiYA=",
                  "12": "YADhpPo=",
                  "13": "9e449d3e-5d79-4f65-a4f1-10dd3b0e0766",
                  "14": "2006-08-01 00:00:00.0000000"
                },
                {
                  "0": "46",
                  "1": "False",
                  "2": "Mr.",
                  "3": "David",
                  "4": "O",
                  "5": "Lawrence",
                  "7": "Gear-Shift Bikes Limited",
                  "8": "adventure-works\\josé1",
                  "9": "david19@adventure-works.com",
                  "10": "020-200-0544",
                  "11": "HyZexVTTLfKfhx/Sb+XHQb4vta2LC1FD3OYIkpmzMlQ=",
                  "12": "/kc6RdY=",
                  "13": "21849ecf-88c2-4574-89d5-397b84df1d0f",
                  "14": "2006-12-01 00:00:00.0000000"
                },
                {
                  "0": "47",
                  "1": "False",
                  "2": "Ms.",
                  "3": "Hattie",
                  "4": "J.",
                  "5": "Haemon",
                  "7": "Greater Bike Store",
                  "8": "adventure-works\\josé1",
                  "9": "hattie0@adventure-works.com",
                  "10": "044-466-0528",
                  "11": "RLemw98UkhyklI9z6Kx01t3fpE6z6E9v5GdRReTdOIY=",
                  "12": "8n38uVg=",
                  "13": "0d9abe85-d952-432d-831a-8beb7f4e49d0",
                  "14": "2005-09-01 00:00:00.0000000"
                },
                {
                  "0": "48",
                  "1": "False",
                  "2": "Ms.",
                  "3": "Anita",
                  "4": "R.",
                  "5": "Lucerne",
                  "7": "Grand Industries",
                  "8": "adventure-works\\garrett1",
                  "9": "anita0@adventure-works.com",
                  "10": "081-358-0773",
                  "11": "YYTwMHBzX9ZM2XoYAzTo7bVfsHm05BO3Sl1+sokcRjM=",
                  "12": "Zb6O1a0=",
                  "13": "e656589a-198f-454f-b02f-9ce324457bdf",
                  "14": "2007-09-01 00:00:00.0000000"
                },
                {
                  "0": "52",
                  "1": "False",
                  "2": "Ms.",
                  "3": "Rebecca",
                  "5": "Laszlo",
                  "7": "Instruments and Parts Company",
                  "8": "adventure-works\\jae0",
                  "9": "rebecca2@adventure-works.com",
                  "10": "0 (84) 233 089-0650",
                  "11": "ox4SPBzzVPKyCVoIcZvkdVLtnQlKoDXCciBGcqVAfrI=",
                  "12": "n7ydrrc=",
                  "13": "8fb34b30-b19d-4aec-b02e-f1be942800e5",
                  "14": "2007-09-01 00:00:00.0000000"
                },
                {
                  "0": "55",
                  "1": "False",
                  "2": "Mr.",
                  "3": "Eric",
                  "5": "Lang",
                  "7": "Kickstands and Accessories Company",
                  "8": "adventure-works\\pamela0",
                  "9": "eric6@adventure-works.com",
                  "10": "036-645-0812",
                  "11": "katp5sn21ZqJq5Z26YRBk9XXP3iFjpsX7tNPYAAxZlI=",
                  "12": "xw9RymE=",
                  "13": "f5d3997b-ad06-46a0-94af-a4460f4be471",
                  "14": "2007-09-01 00:00:00.0000000"
                },
                {
                  "0": "56",
                  "1": "False",
                  "2": "Mr.",
                  "3": "Brian",
                  "5": "Groth",
                  "7": "Latest Accessories Sales",
                  "8": "adventure-works\\david8",
                  "9": "brian5@adventure-works.com",
                  "10": "046-469-0773",
                  "11": "tbk7TwAC5jsqEhFRRIhnL9kPBoTy3XS+EjlReKVp5mw=",
                  "12": "hpOsvJU=",
                  "13": "570b1682-9bb1-4359-984d-8f728e3d6973",
                  "14": "2006-08-01 00:00:00.0000000"
                },
                {
                  "0": "57",
                  "1": "False",
                  "2": "Ms.",
                  "3": "Judy",
                  "4": "R.",
                  "5": "Lundahl",
                  "7": "Leading Sales & Repair",
                  "8": "adventure-works\\jillian0",
                  "9": "judy1@adventure-works.com",
                  "10": "012-806-0648",
                  "11": "VzG/BDjkh2mMWAn2eZ/FQDI5/pGurtzdCfxTaCf6zAs=",
                  "12": "N5Ajt+s=",
                  "13": "7ff17923-e670-4f42-87a3-a6d1af18ea05",
                  "14": "2005-09-01 00:00:00.0000000"
                },
                {
                  "0": "58",
                  "1": "False",
                  "2": "Mr.",
                  "3": "Peter",
                  "5": "Kurniawan",
                  "7": "Largest Bike Store",
                  "8": "adventure-works\\jillian0",
                  "9": "peter4@adventure-works.com",
                  "10": "072-240-0563",
                  "11": "el1s9e+hWeb+79bwrhU+hxHEyJN+j6tR8vWyKJDZmTs=",
                  "12": "QgzjTPU=",
                  "13": "e324fee8-1ee7-4b96-854e-cfda7b0cbbc8",
                  "14": "2005-11-01 00:00:00.0000000"
                },
                {
                  "0": "59",
                  "1": "False",
                  "2": "Mr.",
                  "3": "Douglas",
                  "5": "Groncki",
                  "7": "Locks Company",
                  "8": "adventure-works\\shu0",
                  "9": "douglas2@adventure-works.com",
                  "10": "051-874-0002",
                  "11": "J9nhrWh6kpc/dGBkN7HRxrrbquy1Rit9UMPv9rbYjBs=",
                  "12": "KiAAI5M=",
                  "13": "60708606-604c-44be-90e1-3a0925b8060e",
                  "14": "2007-09-01 00:00:00.0000000"
                },
                {
                  "0": "60",
                  "1": "False",
                  "2": "Mr.",
                  "3": "Sean",
                  "4": "J.",
                  "5": "Lunt",
                  "7": "Main Bicycle Services",
                  "8": "adventure-works\\linda3",
                  "9": "sean4@adventure-works.com",
                  "10": "009-993-0697",
                  "11": "NCIEHFdWOrgXFDd6SE817buY5XNWSBCQZlOsgOGIP2E=",
                  "12": "eK6Wzw0=",
                  "13": "a029f31e-433b-4fa4-b442-b291d16a1b9f",
                  "14": "2007-09-01 00:00:00.0000000"
                },
                {
                  "0": "61",
                  "1": "False",
                  "2": "Mr.",
                  "3": "Jeffrey",
                  "5": "Kurtz",
                  "7": "Many Bikes Store",
                  "8": "adventure-works\\shu0",
                  "9": "jeffrey3@adventure-works.com",
                  "10": "022-212-0560",
                  "11": "zn3Nk0+i/zyvxFNh3OziN2Pxa3NfiIlVMJ9Ox86ytao=",
                  "12": "5MZXwF4=",
                  "13": "ccc53b43-66a6-47f6-a38e-5dd7cfafeaa6",
                  "14": "2006-09-01 00:00:00.0000000"
                },
                {
                  "0": "64",
                  "1": "False",
                  "2": "Mr.",
                  "3": "Vamsi",
                  "5": "Kuppa",
                  "7": "Metal Clearing House",
                  "8": "adventure-works\\josé1",
                  "9": "vamsi1@adventure-works.com",
                  "10": "077-772-0473",
                  "11": "6p4SZnWdWPrBclHkaWFeooblNWE+Y4VJiuTM9hyonDI=",
                  "12": "HaDRSbY=",
                  "13": "e6b6f92d-4ac6-4bc7-bf6b-2f3c67498de7",
                  "14": "2007-08-01 00:00:00.0000000"
                },
                {
                  "0": "65",
                  "1": "False",
                  "2": "Ms.",
                  "3": "Jane",
                  "4": "P.",
                  "5": "Greer",
                  "7": "Metro Manufacturing",
                  "8": "adventure-works\\josé1",
                  "9": "jane2@adventure-works.com",
                  "10": "061-801-0812",
                  "11": "gCWE10xc3haq9E82Ksvg2GS6WBBD0H0ZF25YAS0CfJ8=",
                  "12": "qxbTTkE=",
                  "13": "7e082443-8af6-4bb6-a0f5-1586271d1f2c",
                  "14": "2006-08-01 00:00:00.0000000"
                },
                {
                  "0": "66",
                  "1": "False",
                  "2": "Mr.",
                  "3": "Alexander",
                  "4": "J.",
                  "5": "Deborde",
                  "7": "Neighborhood Store",
                  "8": "adventure-works\\garrett1",
                  "9": "alexander1@adventure-works.com",
                  "10": "026-957-0542",
                  "11": "QC+He1HXF5uNbU5XqduVyZW0SlvdnAE2jhuD/06ukjE=",
                  "12": "Uifpoxw=",
                  "13": "e91e0048-9a25-489b-96c1-d726da68fb7c",
                  "14": "2006-08-01 00:00:00.0000000"
                },
                {
                  "0": "70",
                  "1": "False",
                  "2": "Mr.",
                  "3": "Deepak",
                  "5": "Kumar",
                  "7": "Outdoor Aerobic Systems Company",
                  "8": "adventure-works\\jae0",
                  "9": "deepak0@adventure-works.com",
                  "10": "0 (84) 233 089-0650",
                  "11": "0d3F0pfNxXFKEufM738j3/fA0at2eUlZA8ibqRnMr7M=",
                  "12": "6fOTb8g=",
                  "13": "89e10b04-064e-4313-8203-91fa98a01b11",
                  "14": "2007-08-01 00:00:00.0000000"
                },
                {
                  "0": "73",
                  "1": "False",
                  "2": "Ms.",
                  "3": "Margaret",
                  "4": "T.",
                  "5": "Krupka",
                  "7": "Outdoor Sports Supply",
                  "8": "adventure-works\\pamela0",
                  "9": "margaret1@adventure-works.com",
                  "10": "057-967-0960",
                  "11": "dI+A6Ikk6Eh9ypKYxrAEHGdSxjzUhy8bEyDdFjggW9g=",
                  "12": "09k9Tis=",
                  "13": "9d5c135e-bd60-46e0-b371-843391637827",
                  "14": "2005-08-01 00:00:00.0000000"
                },
                {
                  "0": "74",
                  "1": "False",
                  "2": "Mr.",
                  "3": "Christopher",
                  "4": "M.",
                  "5": "Bright",
                  "7": "Parcel Express Delivery Service",
                  "8": "adventure-works\\david8",
                  "9": "christopher2@adventure-works.com",
                  "10": "063-919-0157",
                  "11": "jIw8zSChmDX3xmVInKUV46U77LBgW9C5vlIMvK4NqF8=",
                  "12": "J9DNyhU=",
                  "13": "73485e57-076d-4b10-bb48-6043dd873582",
                  "14": "2005-11-01 00:00:00.0000000"
                },
                {
                  "0": "75",
                  "1": "False",
                  "2": "Ms.",
                  "3": "Aidan",
                  "5": "Delaney",
                  "7": "Paint Supply",
                  "8": "adventure-works\\jillian0",
                  "9": "aidan0@adventure-works.com",
                  "10": "035-044-0931",
                  "11": "6lcVqEc4gGgfW6DsOks/KuDIWIP5qFsrc8sXtmcwj6E=",
                  "12": "DKu7/UM=",
                  "13": "55cfed0e-1a7b-409c-9aff-297065965870",
                  "14": "2005-09-01 00:00:00.0000000"
                },
                {
                  "0": "76",
                  "1": "False",
                  "2": "Mr.",
                  "3": "James",
                  "4": "J.",
                  "5": "Krow",
                  "7": "Out-of-the-Way Hotels",
                  "8": "adventure-works\\jillian0",
                  "9": "james11@adventure-works.com",
                  "10": "075-944-0444",
                  "11": "I2HiduC1LR4LnxkLk1SFZ0OCyPveKfbQ6Q4mjKnPiyA=",
                  "12": "PJEpZaA=",
                  "13": "5227d299-b05e-4d6c-a1c9-da63154869ba",
                  "14": "2005-09-01 00:00:00.0000000"
                },
                {
                  "0": "77",
                  "1": "False",
                  "2": "Mr.",
                  "3": "Michael",
                  "5": "Brundage",
                  "7": "Mechanical Products Ltd.",
                  "8": "adventure-works\\shu0",
                  "9": "michael13@adventure-works.com",
                  "10": "061-855-0520",
                  "11": "Ioh5Ss2cXrUAI8DZcSkQ/z92aEmHE0Wxqc6MdggjJQE=",
                  "12": "MjQeaAE=",
                  "13": "b3f9113c-8fce-47e1-9f04-38a0c68917c6",
                  "14": "2006-08-01 00:00:00.0000000"
                },
                {
                  "0": "78",
                  "1": "False",
                  "2": "Mr.",
                  "3": "Stefan",
                  "5": "Delmarco",
                  "7": "Preferred Bikes",
                  "8": "adventure-works\\linda3",
                  "9": "stefan0@adventure-works.com",
                  "10": "087-624-0084",
                  "11": "9rOycZRxDntXWB8Y/285x4HS6G2ATNOzhqIhF+oBGqc=",
                  "12": "BsI2IB4=",
                  "13": "8c8083ab-7943-44fa-b1ad-8e3abd5d66ee",
                  "14": "2005-08-01 00:00:00.0000000"
                },
                {
                  "0": "79",
                  "1": "False",
                  "2": "Mr.",
                  "3": "Mitch",
                  "5": "Kennedy",
                  "7": "Reasonable Bicycle Sales",
                  "8": "adventure-works\\shu0",
                  "9": "mitch0@adventure-works.com",
                  "10": "051-410-0447",
                  "11": "Re4KikAJLZeLX+pM2Bw7HZNkd5Yyd/vrGB7WhjbYmCo=",
                  "12": "lGI5cA0=",
                  "13": "010d8aa6-ceba-4097-9e67-3b2a9674fd5f",
                  "14": "2006-08-01 00:00:00.0000000"
                },
                {
                  "0": "82",
                  "1": "False",
                  "2": "Mr.",
                  "3": "James",
                  "4": "D.",
                  "5": "Kramer",
                  "7": "Refined Department Stores",
                  "8": "adventure-works\\josé1",
                  "9": "james10@adventure-works.com",
                  "10": "062-292-0648",
                  "11": "8x6bpv0tFDausfY5Z8RQwPKRz3E+N1BszPMzVAsq5kg=",
                  "12": "5NcSbeg=",
                  "13": "92618ece-2254-4852-b3b3-46ed2e0e3e1a",
                  "14": "2006-07-01 00:00:00.0000000"
                },
                {
                  "0": "83",
                  "1": "False",
                  "2": "Mr.",
                  "3": "Eric",
                  "4": "J.",
                  "5": "Brumfield",
                  "7": "Requisite Part Supply",
                  "8": "adventure-works\\josé1",
                  "9": "eric3@adventure-works.com",
                  "10": "001-050-0299",
                  "11": "pd7lPYE+Gn7QnX4l6aMxG6WiRZGpPVsBcJ1kBpXl7pc=",
                  "12": "MAOhXKA=",
                  "13": "8e01f170-64d3-4b74-82e1-d1691ae9f37c",
                  "14": "2005-07-01 00:00:00.0000000"
                },
                {
                  "0": "84",
                  "1": "False",
                  "2": "Ms.",
                  "3": "Della",
                  "4": "F.",
                  "5": "Demott Jr",
                  "7": "Rewarding Activities Company",
                  "8": "adventure-works\\garrett1",
                  "9": "della0@adventure-works.com",
                  "10": "043-752-0913",
                  "11": "oR9ACW0ZX4v6zBa57CfhePKM1qmHjgDwNdGaTDAp4io=",
                  "12": "966Lz4w=",
                  "13": "45a614ce-3137-4a12-8296-24048c18f320",
                  "14": "2005-08-01 00:00:00.0000000"
                },
                {
                  "0": "88",
                  "1": "False",
                  "2": "Ms.",
                  "3": "Pamala",
                  "4": "M.",
                  "5": "Kotc",
                  "7": "Closest Bicycle Store",
                  "8": "adventure-works\\jae0",
                  "9": "pamala0@adventure-works.com",
                  "10": "0 (84) 233 089-0650",
                  "11": "3nXek8BFNaBhIi8CwSzQOVdo1ZthphI3kGbZTrt6jNM=",
                  "12": "/rh9tFs=",
                  "13": "11feda31-15b6-4f08-9357-355371d4d928",
                  "14": "2007-09-01 00:00:00.0000000"
                },
                {
                  "0": "91",
                  "1": "False",
                  "2": "Ms.",
                  "3": "Joy",
                  "4": "R.",
                  "5": "Koski",
                  "7": "Scooters and Bikes Store",
                  "8": "adventure-works\\pamela0",
                  "9": "joy0@adventure-works.com",
                  "10": "034-183-0554",
                  "11": "tTeR7tEh6XEQtr0WQ2eXrHrqjsOt2mdihjWZ3c4q50s=",
                  "12": "IrqLpXQ=",
                  "13": "9f314fc3-9644-4412-a90a-5483f75f665b",
                  "14": "2005-09-01 00:00:00.0000000"
                },
                {
                  "0": "92",
                  "1": "False",
                  "2": "Ms.",
                  "3": "Jovita",
                  "4": "A.",
                  "5": "Carmody",
                  "7": "Sports Commodities",
                  "8": "adventure-works\\david8",
                  "9": "jovita0@adventure-works.com",
                  "10": "009-557-0844",
                  "11": "d3uGruCihzt7+Dipsh3+fE3iZd/uKCf8sy56xa5chxU=",
                  "12": "zmqmiAQ=",
                  "13": "672412c3-5d5d-488b-b176-e3dafad05d70",
                  "14": "2005-09-01 00:00:00.0000000"
                },
                {
                  "0": "93",
                  "1": "False",
                  "2": "Mr.",
                  "3": "Prashanth",
                  "5": "Desai",
                  "7": "Stationary Bikes and Stands",
                  "8": "adventure-works\\jillian0",
                  "9": "prashanth0@adventure-works.com",
                  "10": "098-165-0300",
                  "11": "AT0SeSL9gTlDL0/MHFMEy5GrEjR12DBF5ag/cyHZpJY=",
                  "12": "l32Vf08=",
                  "13": "249b42c2-8eae-49f1-a560-a90837748654",
                  "14": "2005-09-01 00:00:00.0000000"
                },
                {
                  "0": "94",
                  "1": "False",
                  "2": "Mr.",
                  "3": "Scott",
                  "5": "Konersmann",
                  "7": "Specialty Sports Store",
                  "8": "adventure-works\\jillian0",
                  "9": "scott6@adventure-works.com",
                  "10": "074-543-0447",
                  "11": "2WMJfIzZjrB1xeQtjtSTUQfxxeowOV9LmAjmUkH/qP4=",
                  "12": "A+rOrG0=",
                  "13": "65be08da-dfb7-4bc8-aa5c-fad98b82524e",
                  "14": "2006-07-01 00:00:00.0000000"
                },
                {
                  "0": "95",
                  "1": "False",
                  "2": "Ms.",
                  "3": "Jane",
                  "4": "N.",
                  "5": "Carmichael",
                  "7": "Rural Department Store",
                  "8": "adventure-works\\shu0",
                  "9": "jane0@adventure-works.com",
                  "10": "094-657-0706",
                  "11": "ZIXjFmD2T/Gf9bPHIkx7X82eU+I86/8p3rmYxWqwtkQ=",
                  "12": "BUBjqIQ=",
                  "13": "ea0bc621-9466-4f04-bbff-3b361c6f9057",
                  "14": "2007-07-01 00:00:00.0000000"
                },
                {
                  "0": "96",
                  "1": "False",
                  "2": "Ms.",
                  "3": "Bonnie",
                  "4": "B.",
                  "5": "Lepro",
                  "7": "More Bikes!",
                  "8": "adventure-works\\linda3",
                  "9": "bonnie2@adventure-works.com",
                  "10": "042-449-0648",
                  "11": "QFcESEnv3fd3s0KxftaNIRbKv6ba7PNXWLVrlx/mrF4=",
                  "12": "WVm7PpY=",
                  "13": "bac5b4da-00b0-4bf1-816a-1e39f676bf9b",
                  "14": "2005-09-01 00:00:00.0000000"
                },
                {
                  "0": "97",
                  "1": "False",
                  "2": "Mr.",
                  "3": "Eugene",
                  "5": "Kogan",
                  "7": "Mountain Bike Center",
                  "8": "adventure-works\\shu0",
                  "9": "eugene2@adventure-works.com",
                  "10": "028-076-0136",
                  "11": "Tp1Zre+rOA0pmlkyosHvuAxhbMWt7UcvCPrAYmXyI+w=",
                  "12": "GdsdWsk=",
                  "13": "355eb5d8-6b4c-4fff-b12b-40f89ca4e31d",
                  "14": "2006-08-01 00:00:00.0000000"
                },
                {
                  "0": "100",
                  "1": "False",
                  "2": "Mr.",
                  "3": "Kirk",
                  "4": "T",
                  "5": "King",
                  "7": "Up-To-Date Sports",
                  "8": "adventure-works\\josé1",
                  "9": "kirk2@adventure-works.com",
                  "10": "077-722-0812",
                  "11": "056V7iOc8FPUiLanlyEqQX6cAWuL0TJ8fQBhX7mEjMU=",
                  "12": "b96sfSU=",
                  "13": "e789f6dd-3159-4ddc-81a8-8571c571656e",
                  "14": "2007-08-01 00:00:00.0000000"
                },
                {
                  "0": "101",
                  "1": "False",
                  "2": "Mr.",
                  "3": "William",
                  "4": "J.",
                  "5": "Conner",
                  "7": "Urban Sports Emporium",
                  "8": "adventure-works\\josé1",
                  "9": "william1@adventure-works.com",
                  "10": "076-346-0697",
                  "11": "GZyRS1qyQMxNWXYf0B1uj2nyQjhk4oN+Qv3geEMUy5A=",
                  "12": "94SS2WQ=",
                  "13": "67ad4f37-2467-4438-a749-d947beec3a92",
                  "14": "2006-08-01 00:00:00.0000000"
                },
                {
                  "0": "102",
                  "1": "False",
                  "2": "Ms.",
                  "3": "Linda",
                  "5": "Leste",
                  "7": "National Manufacturing",
                  "8": "adventure-works\\garrett1",
                  "9": "linda7@adventure-works.com",
                  "10": "047-180-0136",
                  "11": "heRwLFQMae6Y0X7+Q7tLrq4gB5sXd8jC7uiIjXlEs6Y=",
                  "12": "OHu+9rc=",
                  "13": "959cf74b-1004-43f5-9ab7-4cdd482c847d",
                  "14": "2005-08-01 00:00:00.0000000"
                },
                {
                  "0": "106",
                  "1": "False",
                  "2": "Ms.",
                  "3": "Andrea",
                  "4": "A.",
                  "5": "Thomsen",
                  "7": "West Side Mart",
                  "8": "adventure-works\\jae0",
                  "9": "andrea1@adventure-works.com",
                  "10": "0 (84) 233 089-0650",
                  "11": "LDoJwsGCFLtxVdbdQBbN/to7zFF1skP+hWLrIrCxvAw=",
                  "12": "NuexV8w=",
                  "13": "aafbf7d5-8759-4962-9deb-77c6e22875f4",
                  "14": "2007-09-01 00:00:00.0000000"
                },
                {
                  "0": "109",
                  "1": "False",
                  "2": "Mr.",
                  "3": "Daniel",
                  "4": "P.",
                  "5": "Thompson",
                  "7": "Travel Sports",
                  "8": "adventure-works\\pamela0",
                  "9": "daniel2@adventure-works.com",
                  "10": "066-339-0399",
                  "11": "DgTXKBbRFAv0jGUCn8yCPgnYQP1JhhVioFj9E1gXCS8=",
                  "12": "jcMXc0w=",
                  "13": "7585790b-6034-4520-a383-9fa1e8b3e76e",
                  "14": "2007-09-01 00:00:00.0000000"
                },
                {
                  "0": "110",
                  "1": "False",
                  "2": "Ms.",
                  "3": "Kendra",
                  "4": "N.",
                  "5": "Thompson",
                  "7": "Vintage Sport Boutique",
                  "8": "adventure-works\\david8",
                  "9": "kendra0@adventure-works.com",
                  "10": "095-454-0931",
                  "11": "dBvr8YSJ5D5BzBQ6uCOKmYVG2wDeIf97H4Jh3ePPYHM=",
                  "12": "IS71rL8=",
                  "13": "82c2f3f0-63b8-46cc-aedc-3a856956ef04",
                  "14": "2007-07-01 00:00:00.0000000"
                },
                {
                  "0": "111",
                  "1": "False",
                  "2": "Mr.",
                  "3": "Scott",
                  "4": "A.",
                  "5": "Colvin",
                  "7": "Westside Cycle Store",
                  "8": "adventure-works\\jillian0",
                  "9": "scott1@adventure-works.com",
                  "10": "012-137-0031",
                  "11": "4QoOmH+4/mabhuXqIQnoVm+1MjvTYyAHid9vpNehSxs=",
                  "12": "sA8S2v4=",
                  "13": "0122151a-9140-4663-a3eb-a442d88bc1bb",
                  "14": "2005-12-01 00:00:00.0000000"
                },
                {
                  "0": "112",
                  "1": "False",
                  "2": "Ms.",
                  "3": "Elsie",
                  "4": "L.",
                  "5": "Lewin",
                  "7": "Town Industries",
                  "8": "adventure-works\\jillian0",
                  "9": "elsie0@adventure-works.com",
                  "10": "046-135-0993",
                  "11": "sbrtAXJY79C5nTfNaktfR5zn9+uSLMSL26NETFSeEas=",
                  "12": "UUwXzgY=",
                  "13": "5035e4d6-3758-4fa6-a462-2e2ecf52e6f0",
                  "14": "2007-09-01 00:00:00.0000000"
                },
                {
                  "0": "113",
                  "1": "False",
                  "2": "Mr.",
                  "3": "Donald",
                  "4": "M.",
                  "5": "Thompson",
                  "7": "Trendy Department Stores",
                  "8": "adventure-works\\shu0",
                  "9": "donald1@adventure-works.com",
                  "10": "000-987-0697",
                  "11": "HfjBjq3HyrYM/vkKe/z2JUvmTeROuQWy7ntzIG/uTNk=",
                  "12": "ke7sTgo=",
                  "13": "8a84966c-5d38-41ca-990f-ad107558a6b8",
                  "14": "2007-09-01 00:00:00.0000000"
                },
                {
                  "0": "114",
                  "1": "False",
                  "2": "Mr.",
                  "3": "John",
                  "4": "L.",
                  "5": "Colon",
                  "7": "Two Wheels Cycle Store",
                  "8": "adventure-works\\linda3",
                  "9": "john14@adventure-works.com",
                  "10": "020-051-0031",
                  "11": "9HEZAYB77VjHRd83ZDP94/ugDP0PhvUiIRCi3Cl5y7A=",
                  "12": "j6Z6ny8=",
                  "13": "bcc5ae61-8214-44a1-a43c-fbd65c3745ae",
                  "14": "2005-09-01 00:00:00.0000000"
                },
                {
                  "0": "115",
                  "1": "False",
                  "2": "Mr.",
                  "3": "George",
                  "4": "Z.",
                  "5": "Li",
                  "7": "Security Racks and Locks Wholesalers",
                  "8": "adventure-works\\shu0",
                  "9": "george3@adventure-works.com",
                  "10": "004-147-0353",
                  "11": "y3YyySPHg7l+/+LZkIFmyZ7gE+BOIOdPEq+t+oE093g=",
                  "12": "4m5UYgM=",
                  "13": "080f7047-8396-4cec-ab43-56cf41de4e00",
                  "14": "2006-08-01 00:00:00.0000000"
                },
                {
                  "0": "118",
                  "1": "False",
                  "2": "Mr.",
                  "3": "Yale",
                  "5": "Li",
                  "7": "Rapid Bikes",
                  "8": "adventure-works\\josé1",
                  "9": "yale0@adventure-works.com",
                  "10": "075-962-0118",
                  "11": "B2RR480ridZSqURXY3APlxFk13GITW6LDFutGbpSUIs=",
                  "12": "5MEUKYU=",
                  "13": "5feafbd2-4a43-4641-8e94-b3059b2a882e",
                  "14": "2005-09-01 00:00:00.0000000"
                },
                {
                  "0": "119",
                  "1": "False",
                  "2": "Ms.",
                  "3": "Phyllis",
                  "4": "A.",
                  "5": "Thomas",
                  "7": "Red Bicycle Company",
                  "8": "adventure-works\\josé1",
                  "9": "phyllis2@adventure-works.com",
                  "10": "049-251-0997",
                  "11": "hAXpzsxtYdB4R3XMc08m98BwHHvL0+J6J+y0u7B1ngg=",
                  "12": "ycYA+jA=",
                  "13": "d13245ef-8267-4cb4-87c9-c23155d33e93",
                  "14": "2005-07-01 00:00:00.0000000"
                },
                {
                  "0": "120",
                  "1": "False",
                  "2": "Mr.",
                  "3": "Pat",
                  "5": "Coleman",
                  "7": "Machines & Cycles Store",
                  "8": "adventure-works\\garrett1",
                  "9": "pat2@adventure-works.com",
                  "10": "024-770-0822",
                  "11": "61UcbVZnGT5eqxs0oFMv4JyipeaQCUZgUZkPgtVNBDo=",
                  "12": "7+I+4k4=",
                  "13": "25863c18-4c9a-4bc9-be0d-95f4cf67bf7d",
                  "14": "2007-07-01 00:00:00.0000000"
                },
                {
                  "0": "124",
                  "1": "False",
                  "2": "Ms.",
                  "3": "Yuhong",
                  "5": "Li",
                  "7": "Nearby Sporting Goods",
                  "8": "adventure-works\\jae0",
                  "9": "yuhong1@adventure-works.com",
                  "10": "0 (84) 233 089-0650",
                  "11": "XrcuygOte7eGdTleJOKDmf/XBySqc/0xVbjpIPzMWQA=",
                  "12": "R273GbA=",
                  "13": "2f614c31-abae-42d0-820b-193f0ddc811e",
                  "14": "2006-08-01 00:00:00.0000000"
                },
                {
                  "0": "127",
                  "1": "False",
                  "2": "Mr.",
                  "3": "Joseph",
                  "4": "M.",
                  "5": "Lique",
                  "7": "Front Sporting Goods",
                  "8": "adventure-works\\pamela0",
                  "9": "joseph2@adventure-works.com",
                  "10": "012-137-0434",
                  "11": "7dnLSdRuWFKBMjmORanIkwGVy3smf5yZI3YxSSyd5/U=",
                  "12": "jH5dJh4=",
                  "13": "ef55103f-acc7-4bfd-89b1-20a04845e706",
                  "14": "2006-08-01 00:00:00.0000000"
                },
                {
                  "0": "128",
                  "1": "False",
                  "2": "Ms.",
                  "3": "Judy",
                  "4": "J.",
                  "5": "Thames",
                  "7": "Demand Distributors",
                  "8": "adventure-works\\david8",
                  "9": "judy3@adventure-works.com",
                  "10": "023-178-0773",
                  "11": "BXs/jMkqmCMJn6V9vWS+iM7P+R0MGu2nmP4SLrJrYCg=",
                  "12": "OSnERUk=",
                  "13": "03f73e74-8de5-421e-b5af-04b259268dd6",
                  "14": "2006-06-01 00:00:00.0000000"
                },
                {
                  "0": "129",
                  "1": "False",
                  "2": "Ms.",
                  "3": "Connie",
                  "4": "L.",
                  "5": "Coffman",
                  "7": "Discount Bicycle Specialists",
                  "8": "adventure-works\\jillian0",
                  "9": "connie0@adventure-works.com",
                  "10": "029-712-0813",
                  "11": "Wkqdm53a0uim7B/e9+IT0I81uzxMNnh1FBaeXd3nyP0=",
                  "12": "3tT/ffQ=",
                  "13": "e03db34c-bf17-407d-9423-fa22dbfdd292",
                  "14": "2005-11-01 00:00:00.0000000"
                },
                {
                  "0": "130",
                  "1": "False",
                  "2": "Mr.",
                  "3": "Paulo",
                  "4": "H.",
                  "5": "Lisboa",
                  "7": "Elite Bikes",
                  "8": "adventure-works\\jillian0",
                  "9": "paulo0@adventure-works.com",
                  "10": "092-197-0993",
                  "11": "MO2kc8uiSARHp+gxFShJchORmBfhfAz+NC31TDVciS8=",
                  "12": "QXbFwBQ=",
                  "13": "606ecdc2-6443-4e4b-897f-32d4c17ab894",
                  "14": "2006-09-01 00:00:00.0000000"
                },
                {
                  "0": "131",
                  "1": "False",
                  "2": "Ms.",
                  "3": "Vanessa",
                  "4": "J.",
                  "5": "Tench",
                  "7": "Eighth Bike Store",
                  "8": "adventure-works\\shu0",
                  "9": "vanessa0@adventure-works.com",
                  "10": "045-744-0812",
                  "11": "qnzSZKGLMJiDzrH9h5VfDojb/pTtQKfZNc7nW7qzQ90=",
                  "12": "dPOi278=",
                  "13": "ed0df7cc-6234-4d60-8b81-315c019f5356",
                  "14": "2007-08-01 00:00:00.0000000"
                },
                {
                  "0": "132",
                  "1": "False",
                  "2": "Ms.",
                  "3": "Teanna",
                  "4": "M.",
                  "5": "Cobb",
                  "7": "Another Sporting Goods Company",
                  "8": "adventure-works\\linda3",
                  "9": "teanna0@adventure-works.com",
                  "10": "040-131-0528",
                  "11": "oDFb9hjhU08th9xeH9bRAY/U7JJTdaLY9NiegJj3vzk=",
                  "12": "60Z0AcQ=",
                  "13": "7649e8af-3dab-43aa-b7df-9776f84dfb71",
                  "14": "2007-08-01 00:00:00.0000000"
                },
                {
                  "0": "133",
                  "1": "False",
                  "2": "Mr.",
                  "3": "Michael",
                  "5": "Graff",
                  "7": "Commercial Sporting Goods",
                  "8": "adventure-works\\shu0",
                  "9": "michael16@adventure-works.com",
                  "10": "045-566-0147",
                  "11": "NRM1BXnt0/4EDaPuM5qday+BOZANEisKCyGGQqJxXpY=",
                  "12": "ewV5lII=",
                  "13": "4f61574b-8353-42ec-825c-87896e6e16a4",
                  "14": "2006-09-01 00:00:00.0000000"
                },
                {
                  "0": "136",
                  "1": "False",
                  "2": "Mr.",
                  "3": "Derek",
                  "5": "Graham",
                  "7": "Wholesale Parts",
                  "8": "adventure-works\\josé1",
                  "9": "derek0@adventure-works.com",
                  "10": "089-617-0464",
                  "11": "FJJVccEFyVV8NubSxOFblRtnKqQD221f9AT9xxYTOUA=",
                  "12": "8ju6sOA=",
                  "13": "84cd4767-f142-4d9d-9033-ad3ade34bf74",
                  "14": "2005-08-01 00:00:00.0000000"
                },
                {
                  "0": "137",
                  "1": "False",
                  "3": "Gytis",
                  "4": "M",
                  "5": "Barzdukas",
                  "7": "Transportation Options",
                  "8": "adventure-works\\josé1",
                  "9": "gytis0@adventure-works.com",
                  "10": "036-323-0996",
                  "11": "muiJ85PHJTw5ocOM+yS+gq+w8REzzCOfzXZNFyDZniI=",
                  "12": "lUNnQso=",
                  "13": "d6a1aee7-25ef-4417-ab10-65bc21661864",
                  "14": "2005-11-01 00:00:00.0000000"
                },
                {
                  "0": "138",
                  "1": "False",
                  "2": "Ms.",
                  "3": "Jane",
                  "5": "Clayton",
                  "7": "South Bike Company",
                  "8": "adventure-works\\garrett1",
                  "9": "jane1@adventure-works.com",
                  "10": "081-367-0434",
                  "11": "o02Imw+gyZX9J1yiTBKYD4M5XlerPqz3usX+v3CsDHA=",
                  "12": "PZCGT2g=",
                  "13": "91b9ef4b-2fa8-4936-ac71-1fa1b3624d12",
                  "14": "2007-08-01 00:00:00.0000000"
                },
                {
                  "0": "142",
                  "1": "False",
                  "2": "Mr.",
                  "3": "Jon",
                  "5": "Grande",
                  "7": "Riding Cycles",
                  "8": "adventure-works\\jae0",
                  "9": "jon1@adventure-works.com",
                  "10": "0 (84) 233 089-0650",
                  "11": "26rwIeR9oyfo+P6lodeASP/MAC2/tdKFbmFVC5uBRmA=",
                  "12": "83inWt0=",
                  "13": "b821d13f-e9db-4a3b-87d0-7e867a161575",
                  "14": "2007-09-01 00:00:00.0000000"
                },
                {
                  "0": "145",
                  "1": "False",
                  "2": "Mr.",
                  "3": "Ted",
                  "5": "Bremer",
                  "7": "Raw Materials Inc",
                  "8": "adventure-works\\pamela0",
                  "9": "ted0@adventure-works.com",
                  "10": "019-903-0157",
                  "11": "mBQHYK00pq9+tDgH7TR6fPrrYQ2drX7/VuuHgkUSOiQ=",
                  "12": "MxiyX14=",
                  "13": "fec5609d-042b-4480-b1ba-55f2d4107327",
                  "14": "2005-08-01 00:00:00.0000000"
                },
                {
                  "0": "146",
                  "1": "False",
                  "2": "Mr.",
                  "3": "Richard",
                  "5": "Bready",
                  "7": "Latest Sports Equipment",
                  "8": "adventure-works\\david8",
                  "9": "richard1@adventure-works.com",
                  "10": "007-591-0979",
                  "11": "kOabrc0OqOISR4N3D3FZkOh3yAKQCF/ozSx7G00Kpt0=",
                  "12": "jpRF8lY=",
                  "13": "5475e9dd-98ca-4989-b7a2-3fc929beea12",
                  "14": "2005-07-01 00:00:00.0000000"
                },
                {
                  "0": "147",
                  "1": "False",
                  "2": "Ms.",
                  "3": "Alice",
                  "5": "Clark",
                  "7": "Local Hardware Factory",
                  "8": "adventure-works\\jillian0",
                  "9": "alice1@adventure-works.com",
                  "10": "013-507-0212",
                  "11": "ZZhnNULC5d/7tZv0hUtCl4jKwgyZql8aSrIzlTaTvg0=",
                  "12": "hGHOthw=",
                  "13": "03836a0b-7ad8-4115-8d23-6efa0d8deea1",
                  "14": "2006-09-01 00:00:00.0000000"
                },
                {
                  "0": "148",
                  "1": "False",
                  "2": "Mr.",
                  "3": "Alan",
                  "5": "Brewer",
                  "7": "Lots of Bikes Storehouse",
                  "8": "adventure-works\\jillian0",
                  "9": "alan1@adventure-works.com",
                  "10": "009-933-0136",
                  "11": "t9ecYoVIOcEiyXvl+noHoCymcRlJij1fzZzXfKeZ/R0=",
                  "12": "6ZoXk8E=",
                  "13": "79355855-a002-4393-bb6e-36f90913fa4d",
                  "14": "2005-11-01 00:00:00.0000000"
                },
                {
                  "0": "149",
                  "1": "False",
                  "2": "Mr.",
                  "3": "Cornelius",
                  "4": "L.",
                  "5": "Brandon",
                  "7": "Initial Bike Company",
                  "8": "adventure-works\\shu0",
                  "9": "cornelius0@adventure-works.com",
                  "10": "010-317-0299",
                  "11": "fftjn+fbjvHFJ4bf7rTpLdlCHv61xF+y0ZPKKevQV98=",
                  "12": "OzSaq2k=",
                  "13": "baa99d94-2fc2-4a1c-8b67-2c3210eb90c3",
                  "14": "2006-09-01 00:00:00.0000000"
                },
                {
                  "0": "150",
                  "1": "False",
                  "2": "Ms.",
                  "3": "Jill",
                  "4": "J.",
                  "5": "Christie",
                  "7": "Fleet Bikes",
                  "8": "adventure-works\\linda3",
                  "9": "jill1@adventure-works.com",
                  "10": "036-370-0554",
                  "11": "Vlb2fj7yW2d5JtfPLZvbicsQNEgLhh0b93Uw2pLEBuE=",
                  "12": "2cMmc9Y=",
                  "13": "285c5dd7-75d6-460d-97ba-aa86d86637c0",
                  "14": "2006-08-01 00:00:00.0000000"
                },
                {
                  "0": "151",
                  "1": "False",
                  "2": "Mr.",
                  "3": "Walter",
                  "4": "J.",
                  "5": "Brian",
                  "6": "IV",
                  "7": "Futuristic Bikes",
                  "8": "adventure-works\\shu0",
                  "9": "walter0@adventure-works.com",
                  "10": "089-308-0921",
                  "11": "NN11OHHxrOm6r8lPyhXuBk13QMD+8tph5PIdJ4t0JmY=",
                  "12": "PiILPfc=",
                  "13": "7f2891f7-dd88-470b-95ae-cc9a7d732b1f",
                  "14": "2006-09-01 00:00:00.0000000"
                },
                {
                  "0": "154",
                  "1": "False",
                  "2": "Mr.",
                  "3": "Carlton",
                  "4": "M.",
                  "5": "Carlisle",
                  "7": "Camping and Sports Store",
                  "8": "adventure-works\\josé1",
                  "9": "carlton0@adventure-works.com",
                  "10": "094-799-0993",
                  "11": "GJhY98QoDTRmv/6f6RcLwoj2v33jAZopR8AjLor/sqc=",
                  "12": "fYgdeM0=",
                  "13": "4f60f75e-b20a-4056-874c-b7f3bd33bf3f",
                  "14": "2007-09-01 00:00:00.0000000"
                },
                {
                  "0": "155",
                  "1": "False",
                  "2": "Mr.",
                  "3": "Joseph",
                  "4": "N.",
                  "5": "Castellucio",
                  "7": "Corner Bicycle Supply",
                  "8": "adventure-works\\josé1",
                  "9": "joseph1@adventure-works.com",
                  "10": "071-478-0299",
                  "11": "NLAR7H8spiCb/C0qY+3qkJm3VuoSOqDw7yspRc1CTTg=",
                  "12": "Whn5BXY=",
                  "13": "3b56cd66-5ddf-430c-ab41-3ff6a1836868",
                  "14": "2005-09-01 00:00:00.0000000"
                },
                {
                  "0": "156",
                  "1": "False",
                  "2": "Mr.",
                  "3": "Lester",
                  "4": "J.",
                  "5": "Bowman",
                  "6": "Sr.",
                  "7": "Metal Processing Company",
                  "8": "adventure-works\\garrett1",
                  "9": "lester0@adventure-works.com",
                  "10": "082-996-0997",
                  "11": "+CFHIbYlE+nsmSbCpJOTLZXChbtYA9JzdSnd1Qejk5g=",
                  "12": "w7ec7iI=",
                  "13": "cfffaafb-98dc-4392-84f9-fb3229f35265",
                  "14": "2005-09-01 00:00:00.0000000"
                },
                {
                  "0": "160",
                  "1": "False",
                  "2": "Ms.",
                  "3": "Brigid",
                  "4": "F.",
                  "5": "Cavendish",
                  "7": "Vigorous Sports Store",
                  "8": "adventure-works\\jae0",
                  "9": "brigid0@adventure-works.com",
                  "10": "0 (84) 233 089-0650",
                  "11": "20rlqqjWOPLBi7oYKBrHMzouHcYl6OknJcV+yc0zQKo=",
                  "12": "QS6UTS4=",
                  "13": "b42d510d-3ae4-4911-88cf-8d90d6bd0922",
                  "14": "2006-09-01 00:00:00.0000000"
                }
              ],
              "schema": [
                {
                  "key": "0",
                  "name": "CustomerID",
                  "type": "string"
                },
                {
                  "key": "1",
                  "name": "NameStyle",
                  "type": "string"
                },
                {
                  "key": "2",
                  "name": "Title",
                  "type": "string"
                },
                {
                  "key": "3",
                  "name": "FirstName",
                  "type": "string"
                },
                {
                  "key": "4",
                  "name": "MiddleName",
                  "type": "string"
                },
                {
                  "key": "5",
                  "name": "LastName",
                  "type": "string"
                },
                {
                  "key": "6",
                  "name": "Suffix",
                  "type": "string"
                },
                {
                  "key": "7",
                  "name": "CompanyName",
                  "type": "string"
                },
                {
                  "key": "8",
                  "name": "SalesPerson",
                  "type": "string"
                },
                {
                  "key": "9",
                  "name": "EmailAddress",
                  "type": "string"
                },
                {
                  "key": "10",
                  "name": "Phone",
                  "type": "string"
                },
                {
                  "key": "11",
                  "name": "PasswordHash",
                  "type": "string"
                },
                {
                  "key": "12",
                  "name": "PasswordSalt",
                  "type": "string"
                },
                {
                  "key": "13",
                  "name": "rowguid",
                  "type": "string"
                },
                {
                  "key": "14",
                  "name": "ModifiedDate",
                  "type": "string"
                }
              ],
              "truncated": false
            },
            "isSummary": false,
            "language": "scala"
          },
          "persist_state": {
            "view": {
              "type": "details",
              "tableOptions": {},
              "chartOptions": {
                "chartType": "bar",
                "aggregationType": "count",
                "categoryFieldKeys": [
                  "0"
                ],
                "seriesFieldKeys": [
                  "0"
                ],
                "isStacked": false
              }
            }
          }
        }
      }
    }
  },
  "nbformat": 4,
  "nbformat_minor": 2
}
