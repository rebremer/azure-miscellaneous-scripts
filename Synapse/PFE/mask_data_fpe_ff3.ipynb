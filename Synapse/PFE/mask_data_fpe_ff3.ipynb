{
  "cells": [
    {
      "cell_type": "markdown",
      "source": [],
      "metadata": {
        "nteract": {
          "transient": {
            "deleting": false
          }
        }
      }
    },
    {
      "cell_type": "code",
      "source": [
        "import pkg_resources\r\n",
        "for d in pkg_resources.working_set:\r\n",
        "     if str(d)[0:3] == \"ff3\" or str(d)[0:12] == \"pycryptodome\":\r\n",
        "          print(str(d))"
      ],
      "outputs": [
        {
          "output_type": "display_data",
          "data": {
            "application/vnd.livy.statement-meta+json": {
              "spark_pool": "testhmacspark",
              "session_id": "46",
              "statement_id": 130,
              "state": "finished",
              "livy_statement_state": "available",
              "queued_time": "2023-03-31T14:37:33.5166848Z",
              "session_start_time": null,
              "execution_start_time": "2023-03-31T14:37:33.7219037Z",
              "execution_finish_time": "2023-03-31T14:37:33.9000076Z",
              "spark_jobs": null,
              "parent_msg_id": "266b8206-f700-416d-9111-54157bb43f46"
            },
            "text/plain": "StatementMeta(testhmacspark, 46, 130, Finished, Available)"
          },
          "metadata": {}
        },
        {
          "output_type": "stream",
          "name": "stdout",
          "text": [
            "pycryptodome 3.17\nff3 1.0.1\n"
          ]
        }
      ],
      "execution_count": 138,
      "metadata": {
        "jupyter": {
          "source_hidden": false,
          "outputs_hidden": false
        },
        "nteract": {
          "transient": {
            "deleting": false
          }
        }
      }
    },
    {
      "cell_type": "code",
      "source": [
        "%%pyspark\r\n",
        "#df = spark.read.load.('abfss://bronze@testhmacmaskstor.dfs.core.windows.net/SalesLT.Customer.txt', format='text', header='true')\r\n",
        "df = spark.read.option(\"header\",True).csv('abfss://bronze@testhmacmaskstor.dfs.core.windows.net/SalesLT.Customer_1M.txt')\r\n",
        "\r\n",
        "display(df.limit(10))\r\n",
        "#https://www.wheelodex.org/projects/ff3/wheels/ff3-1.0.1-py3-none-any.whl/"
      ],
      "outputs": [
        {
          "output_type": "display_data",
          "data": {
            "application/vnd.livy.statement-meta+json": {
              "spark_pool": "testhmacspark",
              "session_id": "46",
              "statement_id": 131,
              "state": "finished",
              "livy_statement_state": "available",
              "queued_time": "2023-03-31T14:37:38.0136649Z",
              "session_start_time": null,
              "execution_start_time": "2023-03-31T14:37:38.2374701Z",
              "execution_finish_time": "2023-03-31T14:37:39.4235054Z",
              "spark_jobs": null,
              "parent_msg_id": "e28c543d-19f7-494e-9df9-79de4bcbe931"
            },
            "text/plain": "StatementMeta(testhmacspark, 46, 131, Finished, Available)"
          },
          "metadata": {}
        },
        {
          "output_type": "display_data",
          "data": {
            "application/vnd.synapse.widget-view+json": {
              "widget_id": "864e8668-2b99-4c3b-8d4f-abeafc24da15",
              "widget_type": "Synapse.DataFrame"
            },
            "text/plain": "SynapseWidget(Synapse.DataFrame, 864e8668-2b99-4c3b-8d4f-abeafc24da15)"
          },
          "metadata": {}
        }
      ],
      "execution_count": 139,
      "metadata": {
        "jupyter": {
          "source_hidden": false,
          "outputs_hidden": false
        },
        "nteract": {
          "transient": {
            "deleting": false
          }
        },
        "microsoft": {
          "language": "python"
        },
        "collapsed": false
      }
    },
    {
      "cell_type": "code",
      "source": [
        "from ff3 import FF3Cipher\r\n",
        "import string\r\n",
        "#\r\n",
        "KEY = TokenLibrary.getSecret('test-hmacmask-akv', 'fpekey', 'AzureKeyVaultHMAC')\r\n",
        "TWEAK = TokenLibrary.getSecret('test-hmacmask-akv', 'fpetweak', 'AzureKeyVaultHMAC')\r\n",
        "#\r\n",
        "C_NUMERIC_MIN = 6\r\n",
        "C_NUMERIC_MAX = 56\r\n",
        "C_NUMERIC_RADIX = 10\r\n",
        "C_NUMERIC_MIN_PREFIX = \"0\"\r\n",
        "#\r\n",
        "C_ALPHANUMERIC_MIN = 6\r\n",
        "C_ALPHANUMERIC_MAX = 32\r\n",
        "C_ALPHANUMERIC_RADIX = 62\r\n",
        "C_ALPHANUMERIC_MIN_PREFIX = \"0\"\r\n",
        "#\r\n",
        "C_ALPHANUMERIC_EXTENDED_MIN = 4\r\n",
        "C_ALPHANUMERIC_EXTENDED_MAX = 30\r\n",
        "C_ALPHANUMERIC_EXTENDED_MIN_PREFIX = \" \"\r\n",
        "C_ALPHANUMERIC_EXTENDED_ALPHABET = string.digits + string.ascii_lowercase + string.ascii_uppercase + \" !ç@#$%^&*()?'\\/-.,¡é\"\r\n",
        "#\r\n",
        "C_EMAIL_MIN = 4\r\n",
        "C_EMAIL_MAX = 30\r\n",
        "C_EMAIL_MIN_PREFIX = \" \"\r\n",
        "C_EMAIL_ALPHABET = string.digits + string.ascii_lowercase + string.ascii_uppercase + \"._%+-çé\""
      ],
      "outputs": [
        {
          "output_type": "display_data",
          "data": {
            "application/vnd.livy.statement-meta+json": {
              "spark_pool": "testhmacspark",
              "session_id": "46",
              "statement_id": 132,
              "state": "finished",
              "livy_statement_state": "available",
              "queued_time": "2023-03-31T14:37:45.0575428Z",
              "session_start_time": null,
              "execution_start_time": "2023-03-31T14:37:45.2372159Z",
              "execution_finish_time": "2023-03-31T14:37:45.4217443Z",
              "spark_jobs": null,
              "parent_msg_id": "9088c53d-fbb1-4035-95b6-7c4573697432"
            },
            "text/plain": "StatementMeta(testhmacspark, 46, 132, Finished, Available)"
          },
          "metadata": {}
        }
      ],
      "execution_count": 140,
      "metadata": {
        "jupyter": {
          "source_hidden": false,
          "outputs_hidden": false
        },
        "nteract": {
          "transient": {
            "deleting": false
          }
        }
      }
    },
    {
      "cell_type": "code",
      "source": [
        "def _fpe_ff3_base(col_val, c, c_min, c_max, c_min_prefix):\r\n",
        "\r\n",
        "    ciphertext =\"\"\r\n",
        "    if len(col_val) < c_min:\r\n",
        "        # column length is too short to be encrypted. Prefix column with values to reach minimal length\r\n",
        "        col_val = str(col_val).rjust(c_min, c_min_prefix)\r\n",
        "        ciphertext = c.encrypt(col_val)\r\n",
        "    elif len(col_val) > c_max:\r\n",
        "        # column length is too long and needs to be chunked. Every chunck is then encrypted and appended\r\n",
        "        current_chunck_length = c_max\r\n",
        "        while current_chunck_length > 0:\r\n",
        "            col_val_array = [col_val[i:i+current_chunck_length] for i in range(0, len(col_val), current_chunck_length)]\r\n",
        "            # check if length of last chunck is larger than minimum\r\n",
        "            if len(col_val_array[-1]) < c_min:\r\n",
        "                #length of last element is shorter than minimum. Decrease current_chunck_length with 1\r\n",
        "                current_chunck_length -= 1\r\n",
        "            else:\r\n",
        "                # length of last chunck is larger than minimum. Ready process\r\n",
        "                break\r\n",
        "        \r\n",
        "        for col_val_item in col_val_array:\r\n",
        "            ciphertext += c.encrypt(col_val_item)\r\n",
        "    else:\r\n",
        "        ciphertext = c.encrypt(col_val)\r\n",
        "\r\n",
        "    return ciphertext\r\n",
        "\r\n",
        "def _fpe_ff3_phone_parsing(col_val, c, c_min, c_max, c_min_prefix):\r\n",
        "\r\n",
        "    raw_string = str(''.join(filter(str.isdigit, col_val)))\r\n",
        "    raw_ciphertext = _fpe_ff3_base(raw_string, c, c_min, c_max, c_min_prefix)\r\n",
        "\r\n",
        "    ciphertext = \"\"\r\n",
        "    non_numeric = 0\r\n",
        "    for j, val in enumerate(col_val):\r\n",
        "        if not(val.isnumeric()):\r\n",
        "            ciphertext += col_val[j]\r\n",
        "            non_numeric += 1\r\n",
        "        else:\r\n",
        "            ciphertext += raw_ciphertext[j-non_numeric]\r\n",
        "    \r\n",
        "    return ciphertext\r\n",
        "\r\n",
        "def _fpe_ff3_email_parsing(col_val, c, c_min, c_max, c_min_prefix):\r\n",
        "\r\n",
        "    at_split = col_val.split(\"@\")\r\n",
        "    len_at_split = len(at_split[0])\r\n",
        "    dot_split = at_split[1].split(\".\")\r\n",
        "    len_dot_split = len_at_split + len(dot_split[0])\r\n",
        "    raw_string = at_split[0] + dot_split[0]\r\n",
        "    raw_ciphertext = _fpe_ff3_base(raw_string, c, c_min, c_max, c_min_prefix)\r\n",
        "    ciphertext = raw_ciphertext[0 : len_at_split] + \"@\" + \\\r\n",
        "                 raw_ciphertext[len_at_split : len_dot_split] + \".\" + \\\r\n",
        "                 col_val[len_dot_split + 2 : ]\r\n",
        "    \r\n",
        "    return ciphertext\r\n",
        "\r\n",
        "def fpe_ff3_numeric(col_val):\r\n",
        "    c = FF3Cipher(KEY, TWEAK, radix=C_NUMERIC_RADIX)\r\n",
        "    return _fpe_ff3_base(col_val, c, C_NUMERIC_MIN, C_NUMERIC_MAX, C_NUMERIC_MIN_PREFIX)\r\n",
        "\r\n",
        "def fpe_ff3_alphanumeric(col_val):\r\n",
        "    c = FF3Cipher(KEY, TWEAK, radix=C_ALPHANUMERIC_RADIX)\r\n",
        "    return _fpe_ff3_base(col_val, c, C_ALPHANUMERIC_MIN, C_ALPHANUMERIC_MAX, C_ALPHANUMERIC_MIN_PREFIX)\r\n",
        "\r\n",
        "def fpe_ff3_alphanumeric_extended(col_val):\r\n",
        "    c = FF3Cipher.withCustomAlphabet(KEY, TWEAK, alphabet=C_ALPHANUMERIC_EXTENDED_ALPHABET)\r\n",
        "    return _fpe_ff3_base(col_val, c, C_ALPHANUMERIC_EXTENDED_MIN, C_ALPHANUMERIC_EXTENDED_MAX, C_ALPHANUMERIC_EXTENDED_MIN_PREFIX)\r\n",
        "\r\n",
        "def fpe_ff3_phone(col_val):\r\n",
        "    c = FF3Cipher(KEY, TWEAK, radix=C_NUMERIC_RADIX)\r\n",
        "    return _fpe_ff3_phone_parsing(col_val, c, C_NUMERIC_MIN, C_NUMERIC_MAX, C_NUMERIC_MIN_PREFIX)\r\n",
        "\r\n",
        "def fpe_ff3_email(col_val):\r\n",
        "    c = FF3Cipher.withCustomAlphabet(KEY, TWEAK, alphabet=C_EMAIL_ALPHABET)\r\n",
        "    return _fpe_ff3_email_parsing(col_val, c, C_EMAIL_MIN, C_EMAIL_MAX, C_EMAIL_MIN_PREFIX)\r\n",
        "\r\n",
        "id = \"1\"\r\n",
        "id_fpe = fpe_ff3_numeric(id)\r\n",
        "name = \"Bremer\"\r\n",
        "name_fpe = fpe_ff3_alphanumeric(name)\r\n",
        "company = \"Bremer & Sons!, LTD.\"\r\n",
        "company_fpe = fpe_ff3_alphanumeric_extended(company)\r\n",
        "phone = \"06-23112312\"\r\n",
        "phone_fpe = fpe_ff3_phone(phone)\r\n",
        "email = \"bremersons@hotmail.com\"\r\n",
        "email_fpe = fpe_ff3_email(email)\r\n",
        "print(id, \"=>\",  id_fpe)\r\n",
        "print(name, \"=>\",  name_fpe)\r\n",
        "print(company, \"=>\",  company_fpe)\r\n",
        "print(phone, \"=>\",  phone_fpe)\r\n",
        "print(email, \"=>\",  email_fpe)"
      ],
      "outputs": [
        {
          "output_type": "display_data",
          "data": {
            "application/vnd.livy.statement-meta+json": {
              "spark_pool": "testhmacspark",
              "session_id": "46",
              "statement_id": 133,
              "state": "finished",
              "livy_statement_state": "available",
              "queued_time": "2023-03-31T14:37:54.4407406Z",
              "session_start_time": null,
              "execution_start_time": "2023-03-31T14:37:54.6148239Z",
              "execution_finish_time": "2023-03-31T14:37:54.7908732Z",
              "spark_jobs": null,
              "parent_msg_id": "500ea279-8450-48ae-b919-1e01b233dbed"
            },
            "text/plain": "StatementMeta(testhmacspark, 46, 133, Finished, Available)"
          },
          "metadata": {}
        },
        {
          "output_type": "stream",
          "name": "stdout",
          "text": [
            "1 => 359228\nBremer => 6paCYa\nBremer & Sons!, LTD. => OsH0*VlF(dsIGHXkZ4dK\n06-23112312 => 48-78322271\nbremersons@hotmail.com => l-YLt53VGs@VDIdçQ4.com\n"
          ]
        }
      ],
      "execution_count": 141,
      "metadata": {
        "jupyter": {
          "source_hidden": false,
          "outputs_hidden": false
        },
        "nteract": {
          "transient": {
            "deleting": false
          }
        }
      }
    },
    {
      "cell_type": "code",
      "source": [
        "# https://tunetotech.com/Post.aspx?post=9\r\n",
        "from pyspark.sql.functions import udf\r\n",
        "from pyspark.sql.types import StringType\r\n",
        "from ff3 import FF3Cipher\r\n",
        "#\r\n",
        "fpe_ff3_numeric_udf = udf(fpe_ff3_numeric, StringType())\r\n",
        "fpe_ff3_alphanumeric_udf = udf(fpe_ff3_alphanumeric, StringType())\r\n",
        "fpe_ff3_alphanumeric_extended_udf = udf(fpe_ff3_alphanumeric_extended, StringType())\r\n",
        "fpe_ff3_email_udf = udf(fpe_ff3_email, StringType())\r\n",
        "fpe_ff3_phone_udf = udf(fpe_ff3_phone, StringType())\r\n",
        "#\r\n",
        "df2=df.withColumn('CustomerID', fpe_ff3_numeric_udf(df.CustomerID)) \\\r\n",
        "      .withColumn('FirstName', fpe_ff3_alphanumeric_extended_udf(df.FirstName)) \\\r\n",
        "      .withColumn('LastName', fpe_ff3_alphanumeric_extended_udf(df.LastName)) \\\r\n",
        "      .withColumn('CompanyName', fpe_ff3_alphanumeric_extended_udf(df.CompanyName)) \\\r\n",
        "      .withColumn('EmailAddress', fpe_ff3_email_udf(df.EmailAddress)) \\\r\n",
        "      .withColumn('Phone', fpe_ff3_phone_udf(df.Phone))\r\n",
        "\r\n",
        "display(df2.limit(10))"
      ],
      "outputs": [
        {
          "output_type": "display_data",
          "data": {
            "application/vnd.livy.statement-meta+json": {
              "spark_pool": "testhmacspark",
              "session_id": "46",
              "statement_id": 134,
              "state": "finished",
              "livy_statement_state": "available",
              "queued_time": "2023-03-31T14:38:10.3817014Z",
              "session_start_time": null,
              "execution_start_time": "2023-03-31T14:38:10.5916501Z",
              "execution_finish_time": "2023-03-31T14:38:11.8567304Z",
              "spark_jobs": null,
              "parent_msg_id": "7b144d1b-a6f2-4907-83fb-c6b98fe21216"
            },
            "text/plain": "StatementMeta(testhmacspark, 46, 134, Finished, Available)"
          },
          "metadata": {}
        },
        {
          "output_type": "display_data",
          "data": {
            "application/vnd.synapse.widget-view+json": {
              "widget_id": "04f9dbe3-d1c5-420e-ad00-85a176279dfb",
              "widget_type": "Synapse.DataFrame"
            },
            "text/plain": "SynapseWidget(Synapse.DataFrame, 04f9dbe3-d1c5-420e-ad00-85a176279dfb)"
          },
          "metadata": {}
        }
      ],
      "execution_count": 142,
      "metadata": {
        "jupyter": {
          "source_hidden": false,
          "outputs_hidden": false
        },
        "nteract": {
          "transient": {
            "deleting": false
          }
        },
        "collapsed": false
      }
    },
    {
      "cell_type": "code",
      "source": [
        "df2.write.mode(\"overwrite\").option(\"header\",\"true\").csv('abfss://gold@testhmacmaskstor.dfs.core.windows.net/SalesLT.Customer_1M_masked.txt')"
      ],
      "outputs": [
        {
          "output_type": "display_data",
          "data": {
            "application/vnd.livy.statement-meta+json": {
              "spark_pool": "testhmacspark",
              "session_id": "46",
              "statement_id": 135,
              "state": "submitted",
              "livy_statement_state": "running",
              "queued_time": "2023-03-31T14:38:17.7305228Z",
              "session_start_time": null,
              "execution_start_time": "2023-03-31T14:38:17.9347321Z",
              "execution_finish_time": null,
              "spark_jobs": null,
              "parent_msg_id": "f9855711-99ee-4efc-a4f9-daf3747b0323"
            },
            "text/plain": "StatementMeta(testhmacspark, 46, 135, Submitted, Running)"
          },
          "metadata": {}
        }
      ],
      "execution_count": 143,
      "metadata": {
        "jupyter": {
          "source_hidden": false,
          "outputs_hidden": false
        },
        "nteract": {
          "transient": {
            "deleting": false
          }
        }
      }
    }
  ],
  "metadata": {
    "kernelspec": {
      "name": "synapse_pyspark",
      "language": "Python",
      "display_name": "Synapse PySpark"
    },
    "language_info": {
      "name": "python"
    },
    "kernel_info": {
      "name": "synapse_pyspark"
    },
    "description": null,
    "save_output": true,
    "synapse_widget": {
      "version": "0.1",
      "state": {
        "864e8668-2b99-4c3b-8d4f-abeafc24da15": {
          "type": "Synapse.DataFrame",
          "sync_state": {
            "table": {
              "rows": [
                {
                  "0": "1",
                  "1": "False",
                  "2": "Mr.",
                  "3": "Orlando",
                  "4": "N.",
                  "5": "Gee",
                  "7": "A Bike Store",
                  "8": "adventure-works\\pamela0",
                  "9": "orlando0@adventure-works.com",
                  "10": "245-555-0173",
                  "11": "L/Rlwxzp4w7RWmEgXX+/A7cXaePEPcp+KwQhl2fJL7w=",
                  "12": "1KjXYs4=",
                  "13": "3f5ae95e-b87d-4aed-95b4-c3797afcb74f",
                  "14": "2005-08-01 00:00:00.0000000"
                },
                {
                  "0": "2",
                  "1": "False",
                  "2": "Mr.",
                  "3": "Keith",
                  "5": "Harris",
                  "7": "Progressive Sports",
                  "8": "adventure-works\\david8",
                  "9": "keith0@adventure-works.com",
                  "10": "170-555-0127",
                  "11": "YPdtRdvqeAhj6wyxEsFdshBDNXxkCXn+CRgbvJItknw=",
                  "12": "fs1ZGhY=",
                  "13": "e552f657-a9af-4a7d-a645-c429d6e02491",
                  "14": "2006-08-01 00:00:00.0000000"
                },
                {
                  "0": "3",
                  "1": "False",
                  "2": "Ms.",
                  "3": "Donna",
                  "4": "F.",
                  "5": "Carreras",
                  "7": "Advanced Bike Components",
                  "8": "adventure-works\\jillian0",
                  "9": "donna0@adventure-works.com",
                  "10": "279-555-0130",
                  "11": "LNoK27abGQo48gGue3EBV/UrlYSToV0/s87dCRV7uJk=",
                  "12": "YTNH5Rw=",
                  "13": "130774b1-db21-4ef3-98c8-c104bcd6ed6d",
                  "14": "2005-09-01 00:00:00.0000000"
                },
                {
                  "0": "4",
                  "1": "False",
                  "2": "Ms.",
                  "3": "Janet",
                  "4": "M.",
                  "5": "Gates",
                  "7": "Modular Cycle Systems",
                  "8": "adventure-works\\jillian0",
                  "9": "janet1@adventure-works.com",
                  "10": "710-555-0173",
                  "11": "ElzTpSNbUW1Ut+L5cWlfR7MF6nBZia8WpmGaQPjLOJA=",
                  "12": "nm7D5e4=",
                  "13": "ff862851-1daa-4044-be7c-3e85583c054d",
                  "14": "2006-07-01 00:00:00.0000000"
                },
                {
                  "0": "5",
                  "1": "False",
                  "2": "Mr.",
                  "3": "Lucy",
                  "5": "Harrington",
                  "7": "Metropolitan Sports Supply",
                  "8": "adventure-works\\shu0",
                  "9": "lucy0@adventure-works.com",
                  "10": "828-555-0186",
                  "11": "KJqV15wsX3PG8TS5GSddp6LFFVdd3CoRftZM/tP0+R4=",
                  "12": "cNFKU4w=",
                  "13": "83905bdc-6f5e-4f71-b162-c98da069f38a",
                  "14": "2006-09-01 00:00:00.0000000"
                },
                {
                  "0": "6",
                  "1": "False",
                  "2": "Ms.",
                  "3": "Rosmarie",
                  "4": "J.",
                  "5": "Carroll",
                  "7": "Aerobic Exercise Company",
                  "8": "adventure-works\\linda3",
                  "9": "rosmarie0@adventure-works.com",
                  "10": "244-555-0112",
                  "11": "OKT0scizCdIzymHHOtyJKQiC/fCILSooSZ8dQ2Y34VM=",
                  "12": "ihWf50M=",
                  "13": "1a92df88-bfa2-467d-bd54-fcb9e647fdd7",
                  "14": "2007-09-01 00:00:00.0000000"
                },
                {
                  "0": "7",
                  "1": "False",
                  "2": "Mr.",
                  "3": "Dominic",
                  "4": "P.",
                  "5": "Gash",
                  "7": "Associated Bikes",
                  "8": "adventure-works\\shu0",
                  "9": "dominic0@adventure-works.com",
                  "10": "192-555-0173",
                  "11": "ZccoP/jZGQm+Xpzc7RKwDhS11YFNybwcPVRYTSNcnSg=",
                  "12": "sPoUBSQ=",
                  "13": "03e9273e-b193-448e-9823-fe0c44aeed78",
                  "14": "2006-07-01 00:00:00.0000000"
                },
                {
                  "0": "10",
                  "1": "False",
                  "2": "Ms.",
                  "3": "Kathleen",
                  "4": "M.",
                  "5": "Garza",
                  "7": "Rural Cycle Emporium",
                  "8": "adventure-works\\josé1",
                  "9": "kathleen0@adventure-works.com",
                  "10": "150-555-0127",
                  "11": "Qa3aMCxNbVLGrc0b99KsbQqiVgwYDfHcsK9GZSUxcTM=",
                  "12": "Ls05W3g=",
                  "13": "cdb6698d-2ff1-4fba-8f22-60ad1d11dabd",
                  "14": "2006-09-01 00:00:00.0000000"
                },
                {
                  "0": "11",
                  "1": "False",
                  "2": "Ms.",
                  "3": "Katherine",
                  "5": "Harding",
                  "7": "Sharp Bikes",
                  "8": "adventure-works\\josé1",
                  "9": "katherine0@adventure-works.com",
                  "10": "926-555-0159",
                  "11": "uRlorVzDGNJIX9I+ehTlRK+liT4UKRgWhApJgUMC2d4=",
                  "12": "jpHKbqE=",
                  "13": "750f3495-59c4-48a0-80e1-e37ec60e77d9",
                  "14": "2005-08-01 00:00:00.0000000"
                },
                {
                  "0": "12",
                  "1": "False",
                  "2": "Mr.",
                  "3": "Johnny",
                  "4": "A.",
                  "5": "Caprio",
                  "6": "Jr.",
                  "7": "Bikes and Motorbikes",
                  "8": "adventure-works\\garrett1",
                  "9": "johnny0@adventure-works.com",
                  "10": "112-555-0191",
                  "11": "jtF9jBoFYeJTaET7x+eJDkd7BzMz15Wo9odbGPBaIak=",
                  "12": "wVLnvHo=",
                  "13": "947bcaf1-1f32-44f3-b9c3-0011f95fbe54",
                  "14": "2006-08-01 00:00:00.0000000"
                }
              ],
              "schema": [
                {
                  "key": "0",
                  "name": "CustomerID",
                  "type": "string"
                },
                {
                  "key": "1",
                  "name": "NameStyle",
                  "type": "string"
                },
                {
                  "key": "2",
                  "name": "Title",
                  "type": "string"
                },
                {
                  "key": "3",
                  "name": "FirstName",
                  "type": "string"
                },
                {
                  "key": "4",
                  "name": "MiddleName",
                  "type": "string"
                },
                {
                  "key": "5",
                  "name": "LastName",
                  "type": "string"
                },
                {
                  "key": "6",
                  "name": "Suffix",
                  "type": "string"
                },
                {
                  "key": "7",
                  "name": "CompanyName",
                  "type": "string"
                },
                {
                  "key": "8",
                  "name": "SalesPerson",
                  "type": "string"
                },
                {
                  "key": "9",
                  "name": "EmailAddress",
                  "type": "string"
                },
                {
                  "key": "10",
                  "name": "Phone",
                  "type": "string"
                },
                {
                  "key": "11",
                  "name": "PasswordHash",
                  "type": "string"
                },
                {
                  "key": "12",
                  "name": "PasswordSalt",
                  "type": "string"
                },
                {
                  "key": "13",
                  "name": "rowguid",
                  "type": "string"
                },
                {
                  "key": "14",
                  "name": "ModifiedDate",
                  "type": "string"
                }
              ],
              "truncated": false
            },
            "isSummary": false,
            "language": "scala"
          },
          "persist_state": {
            "view": {
              "type": "details",
              "tableOptions": {},
              "chartOptions": {
                "chartType": "bar",
                "aggregationType": "count",
                "categoryFieldKeys": [
                  "0"
                ],
                "seriesFieldKeys": [
                  "0"
                ],
                "isStacked": false
              }
            }
          }
        },
        "04f9dbe3-d1c5-420e-ad00-85a176279dfb": {
          "type": "Synapse.DataFrame",
          "sync_state": {
            "table": {
              "rows": [
                {
                  "0": "359228",
                  "1": "False",
                  "2": "Mr.",
                  "3": "? sSczX",
                  "4": "N.",
                  "5": "$GD-",
                  "7": "iqçw¡BUNR?*f",
                  "8": "adventure-works\\pamela0",
                  "9": "CmSeuD45@v32O-30çP7MaDRo.com",
                  "10": "969-549-8269",
                  "11": "L/Rlwxzp4w7RWmEgXX+/A7cXaePEPcp+KwQhl2fJL7w=",
                  "12": "1KjXYs4=",
                  "13": "3f5ae95e-b87d-4aed-95b4-c3797afcb74f",
                  "14": "2005-08-01 00:00:00.0000000"
                },
                {
                  "0": "485624",
                  "1": "False",
                  "2": "Mr.",
                  "3": "H5O&\\",
                  "5": "¡R5ç8s",
                  "7": "ehl/T8b/ ¡UQ8KQerx",
                  "8": "adventure-works\\david8",
                  "9": "éF2JhB@vNkn3zMSéMDQ7p9.com",
                  "10": "592-958-6517",
                  "11": "YPdtRdvqeAhj6wyxEsFdshBDNXxkCXn+CRgbvJItknw=",
                  "12": "fs1ZGhY=",
                  "13": "e552f657-a9af-4a7d-a645-c429d6e02491",
                  "14": "2006-08-01 00:00:00.0000000"
                },
                {
                  "0": "589364",
                  "1": "False",
                  "2": "Ms.",
                  "3": "x@Mt¡",
                  "4": "F.",
                  "5": "ztDdY.^X",
                  "7": "y03$Xin&S?0K.zPDi.Nx4^lU",
                  "8": "adventure-works\\jillian0",
                  "9": "Lbe+eR@uHX4LbwfLthLoJ_.com",
                  "10": "621-653-8534",
                  "11": "LNoK27abGQo48gGue3EBV/UrlYSToV0/s87dCRV7uJk=",
                  "12": "YTNH5Rw=",
                  "13": "130774b1-db21-4ef3-98c8-c104bcd6ed6d",
                  "14": "2005-09-01 00:00:00.0000000"
                },
                {
                  "0": "713641",
                  "1": "False",
                  "2": "Ms.",
                  "3": "U2 v)",
                  "4": "M.",
                  "5": "Cq$$'",
                  "7": "RY\\0p%3olc,FX)/N'h%H^",
                  "8": "adventure-works\\jillian0",
                  "9": "YvKRiK@sDYVYH7eAOl6I5g.com",
                  "10": "884-130-9744",
                  "11": "ElzTpSNbUW1Ut+L5cWlfR7MF6nBZia8WpmGaQPjLOJA=",
                  "12": "nm7D5e4=",
                  "13": "ff862851-1daa-4044-be7c-3e85583c054d",
                  "14": "2006-07-01 00:00:00.0000000"
                },
                {
                  "0": "063994",
                  "1": "False",
                  "2": "Mr.",
                  "3": "Cç7T",
                  "5": "V'wL,¡tç-H",
                  "7": "RçF)x%ruG1s*5UCQ t0$Ue%ELo",
                  "8": "adventure-works\\shu0",
                  "9": "%QWyn@eghHvO_GN7paAJA.com",
                  "10": "471-489-3856",
                  "11": "KJqV15wsX3PG8TS5GSddp6LFFVdd3CoRftZM/tP0+R4=",
                  "12": "cNFKU4w=",
                  "13": "83905bdc-6f5e-4f71-b162-c98da069f38a",
                  "14": "2006-09-01 00:00:00.0000000"
                },
                {
                  "0": "711981",
                  "1": "False",
                  "2": "Ms.",
                  "3": "SRbu\\'No",
                  "4": "J.",
                  "5": "mW'Lçgv",
                  "7": "8AwK-ap4J$v7qN*a?yx/LQ?W",
                  "8": "adventure-works\\linda3",
                  "9": "Ae_8g7rcz@sAt2Z3lE8xb9çNE.com",
                  "10": "645-853-7991",
                  "11": "OKT0scizCdIzymHHOtyJKQiC/fCILSooSZ8dQ2Y34VM=",
                  "12": "ihWf50M=",
                  "13": "1a92df88-bfa2-467d-bd54-fcb9e647fdd7",
                  "14": "2007-09-01 00:00:00.0000000"
                },
                {
                  "0": "923885",
                  "1": "False",
                  "2": "Mr.",
                  "3": "0jO¡N@K",
                  "4": "P.",
                  "5": ")@HL",
                  "7": "Pv9A1q^,g5*itwX9",
                  "8": "adventure-works\\shu0",
                  "9": "nJ6m0kça@tQH9bpvqé3tfjfA.com",
                  "10": "991-655-8389",
                  "11": "ZccoP/jZGQm+Xpzc7RKwDhS11YFNybwcPVRYTSNcnSg=",
                  "12": "sPoUBSQ=",
                  "13": "03e9273e-b193-448e-9823-fe0c44aeed78",
                  "14": "2006-07-01 00:00:00.0000000"
                },
                {
                  "0": "482835",
                  "1": "False",
                  "2": "Ms.",
                  "3": "R/8t^^h-",
                  "4": "M.",
                  "5": "OOZx-",
                  "7": "H90 1lQ@T-KDO%?Vbu c",
                  "8": "adventure-works\\josé1",
                  "9": "pmgVuUOjq@U%ua8RAvWsCLdwE.com",
                  "10": "797-848-6791",
                  "11": "Qa3aMCxNbVLGrc0b99KsbQqiVgwYDfHcsK9GZSUxcTM=",
                  "12": "Ls05W3g=",
                  "13": "cdb6698d-2ff1-4fba-8f22-60ad1d11dabd",
                  "14": "2006-09-01 00:00:00.0000000"
                },
                {
                  "0": "442145",
                  "1": "False",
                  "2": "Ms.",
                  "3": "l-CEnHbnS",
                  "5": "w^7GUqD",
                  "7": "soin/ok-6BF",
                  "8": "adventure-works\\josé1",
                  "9": "j%53U4m%eA@TnçaT48-LléqNVj.com",
                  "10": "039-947-1218",
                  "11": "uRlorVzDGNJIX9I+ehTlRK+liT4UKRgWhApJgUMC2d4=",
                  "12": "jpHKbqE=",
                  "13": "750f3495-59c4-48a0-80e1-e37ec60e77d9",
                  "14": "2005-08-01 00:00:00.0000000"
                },
                {
                  "0": "053325",
                  "1": "False",
                  "2": "Mr.",
                  "3": "vmr%TU",
                  "4": "A.",
                  "5": "Aq,X8H",
                  "6": "Jr.",
                  "7": "ISJ/acHjpa4-!KxRf\\z.",
                  "8": "adventure-works\\garrett1",
                  "9": "q+7Lnlm@UP49uIé4aTs+LEp.com",
                  "10": "613-790-6002",
                  "11": "jtF9jBoFYeJTaET7x+eJDkd7BzMz15Wo9odbGPBaIak=",
                  "12": "wVLnvHo=",
                  "13": "947bcaf1-1f32-44f3-b9c3-0011f95fbe54",
                  "14": "2006-08-01 00:00:00.0000000"
                }
              ],
              "schema": [
                {
                  "key": "0",
                  "name": "CustomerID",
                  "type": "string"
                },
                {
                  "key": "1",
                  "name": "NameStyle",
                  "type": "string"
                },
                {
                  "key": "2",
                  "name": "Title",
                  "type": "string"
                },
                {
                  "key": "3",
                  "name": "FirstName",
                  "type": "string"
                },
                {
                  "key": "4",
                  "name": "MiddleName",
                  "type": "string"
                },
                {
                  "key": "5",
                  "name": "LastName",
                  "type": "string"
                },
                {
                  "key": "6",
                  "name": "Suffix",
                  "type": "string"
                },
                {
                  "key": "7",
                  "name": "CompanyName",
                  "type": "string"
                },
                {
                  "key": "8",
                  "name": "SalesPerson",
                  "type": "string"
                },
                {
                  "key": "9",
                  "name": "EmailAddress",
                  "type": "string"
                },
                {
                  "key": "10",
                  "name": "Phone",
                  "type": "string"
                },
                {
                  "key": "11",
                  "name": "PasswordHash",
                  "type": "string"
                },
                {
                  "key": "12",
                  "name": "PasswordSalt",
                  "type": "string"
                },
                {
                  "key": "13",
                  "name": "rowguid",
                  "type": "string"
                },
                {
                  "key": "14",
                  "name": "ModifiedDate",
                  "type": "string"
                }
              ],
              "truncated": false
            },
            "isSummary": false,
            "language": "scala"
          },
          "persist_state": {
            "view": {
              "type": "details",
              "tableOptions": {},
              "chartOptions": {
                "chartType": "bar",
                "aggregationType": "count",
                "categoryFieldKeys": [
                  "0"
                ],
                "seriesFieldKeys": [
                  "0"
                ],
                "isStacked": false
              }
            }
          }
        }
      }
    }
  },
  "nbformat": 4,
  "nbformat_minor": 2
}
