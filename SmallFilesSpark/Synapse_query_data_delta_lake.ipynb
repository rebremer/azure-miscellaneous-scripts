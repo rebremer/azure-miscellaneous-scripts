{
  "nbformat": 4,
  "nbformat_minor": 2,
  "metadata": {
    "kernelspec": {
      "name": "synapse_pyspark",
      "display_name": "Synapse PySpark"
    },
    "language_info": {
      "name": "python"
    },
    "save_output": true,
    "synapse_widget": {
      "version": "0.1",
      "state": {}
    }
  },
  "cells": [
    {
      "cell_type": "code",
      "execution_count": 4,
      "outputs": [],
      "metadata": {},
      "source": [
        "# https://iterationinsights.com/article/exploring-delta-lake-in-azure-synapse-analytics/\r\n",
        "\r\n",
        "\r\n",
        "# https://www.mssqltips.com/sqlservertip/7286/delta-lakes-time-travel-functionality-etl-logging/\r\n",
        ""
      ]
    },
    {
      "cell_type": "code",
      "execution_count": 18,
      "outputs": [],
      "metadata": {
        "jupyter": {
          "source_hidden": false,
          "outputs_hidden": false
        },
        "nteract": {
          "transient": {
            "deleting": false
          }
        },
        "microsoft": {
          "language": "sparksql"
        },
        "collapsed": false
      },
      "source": [
        "%%sql\r\n",
        "-- Create Delta Lake table, define schema and location\r\n",
        "CREATE TABLE demo_delta_lake_increment\r\n",
        "USING DELTA\r\n",
        "-- specify data lake folder location\r\n",
        "LOCATION 'abfss://deltalakeproducer@testedlprod1stor.dfs.core.windows.net/moviedata/increment'"
      ]
    },
    {
      "cell_type": "code",
      "execution_count": 19,
      "outputs": [],
      "metadata": {
        "jupyter": {
          "source_hidden": false,
          "outputs_hidden": false
        },
        "nteract": {
          "transient": {
            "deleting": false
          }
        },
        "microsoft": {
          "language": "sparksql"
        },
        "collapsed": false
      },
      "source": [
        "%%sql\r\n",
        "\r\n",
        "SELECT count(*) FROM demo_delta_lake_increment"
      ]
    },
    {
      "cell_type": "code",
      "execution_count": 21,
      "outputs": [],
      "metadata": {
        "jupyter": {
          "source_hidden": false,
          "outputs_hidden": false
        },
        "nteract": {
          "transient": {
            "deleting": false
          }
        },
        "microsoft": {
          "language": "sparksql"
        },
        "collapsed": false
      },
      "source": [
        "%%sql\r\n",
        "\r\n",
        "SELECT * FROM demo_delta_lake_increment"
      ]
    },
    {
      "cell_type": "code",
      "execution_count": 23,
      "outputs": [],
      "metadata": {
        "jupyter": {
          "source_hidden": false,
          "outputs_hidden": false
        },
        "nteract": {
          "transient": {
            "deleting": false
          }
        },
        "microsoft": {
          "language": "sparksql"
        },
        "collapsed": false
      },
      "source": [
        "%%sql\r\n",
        "DESCRIBE HISTORY 'abfss://deltalakeproducer@testedlprod1stor.dfs.core.windows.net/moviedata/increment'"
      ]
    },
    {
      "cell_type": "code",
      "execution_count": 28,
      "outputs": [],
      "metadata": {
        "jupyter": {
          "source_hidden": false,
          "outputs_hidden": false
        },
        "nteract": {
          "transient": {
            "deleting": false
          }
        },
        "microsoft": {
          "language": "sparksql"
        },
        "collapsed": false
      },
      "source": [
        "%%sql\r\n",
        "-- Create Delta Lake table, define schema and location\r\n",
        "CREATE TABLE demo_delta_lake_increment_v0\r\n",
        "USING DELTA\r\n",
        "-- specify data lake folder location\r\n",
        "LOCATION 'abfss://deltalakeproducer@testedlprod1stor.dfs.core.windows.net/moviedata/increment@v0'"
      ]
    },
    {
      "cell_type": "code",
      "execution_count": 29,
      "outputs": [],
      "metadata": {
        "jupyter": {
          "source_hidden": false,
          "outputs_hidden": false
        },
        "nteract": {
          "transient": {
            "deleting": false
          }
        },
        "microsoft": {
          "language": "sparksql"
        },
        "collapsed": false
      },
      "source": [
        "%%sql\r\n",
        "-- Create Delta Lake table, define schema and location\r\n",
        "CREATE TABLE demo_delta_lake_increment_v1\r\n",
        "USING DELTA\r\n",
        "-- specify data lake folder location\r\n",
        "LOCATION 'abfss://deltalakeproducer@testedlprod1stor.dfs.core.windows.net/moviedata/increment@v1'"
      ]
    },
    {
      "cell_type": "code",
      "execution_count": 30,
      "outputs": [],
      "metadata": {
        "jupyter": {
          "source_hidden": false,
          "outputs_hidden": false
        },
        "nteract": {
          "transient": {
            "deleting": false
          }
        },
        "microsoft": {
          "language": "sparksql"
        },
        "collapsed": false
      },
      "source": [
        "%%sql\r\n",
        "-- GET increment\r\n",
        "SELECT * FROM demo_delta_lake_increment_v1\r\n",
        "EXCEPT ALL\r\n",
        "SELECT * FROM demo_delta_lake_increment_v0"
      ]
    },
    {
      "cell_type": "code",
      "execution_count": null,
      "outputs": [],
      "metadata": {
        "jupyter": {
          "source_hidden": false,
          "outputs_hidden": false
        },
        "nteract": {
          "transient": {
            "deleting": false
          }
        }
      },
      "source": []
    }
  ]
}