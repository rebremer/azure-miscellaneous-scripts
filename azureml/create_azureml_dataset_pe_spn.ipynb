{
  "cells": [
    {
      "cell_type": "code",
      "execution_count": 36,
      "metadata": {},
      "outputs": [
        {
          "name": "stdout",
          "output_type": "stream",
          "text": [
            "10.0.0.4\n"
          ]
        }
      ],
      "source": [
        "import socket\n",
        "\n",
        "par_storage = \"testazuremlpestor\"\n",
        "\n",
        "addr = socket.gethostbyname(par_storage + '.dfs.core.windows.net')\n",
        "\n",
        "print(addr)"
      ]
    },
    {
      "cell_type": "code",
      "execution_count": 37,
      "metadata": {
        "jupyter": {
          "outputs_hidden": false,
          "source_hidden": false
        },
        "nteract": {
          "transient": {
            "deleting": false
          }
        }
      },
      "outputs": [],
      "source": [
        "from azureml.core import Dataset, Datastore\n",
        "import os\n",
        "import azureml.core\n",
        "import os\n",
        "import azureml.core\n",
        "from azureml.core import Workspace, Experiment, Dataset, RunConfiguration, Environment\n",
        "\n",
        "\n",
        "ws = Workspace.from_config()\n"
      ]
    },
    {
      "cell_type": "code",
      "execution_count": null,
      "metadata": {
        "jupyter": {
          "outputs_hidden": false,
          "source_hidden": false
        },
        "nteract": {
          "transient": {
            "deleting": false
          }
        }
      },
      "outputs": [],
      "source": [
        "data_store_name=\"testazuremlpestor\"\n",
        "store_name=os.getenv(\"ADL_STORENAME\", \"testazuremlpestor\") # the ADLS name\n",
        "subscription_id=os.getenv(\"ADL_SUBSCRIPTION\", \"<<your subscription>>\") # subscription id of the ADLS\n",
        "resource_group=os.getenv(\"ADL_RESOURCE_GROUP\", \"test-azuremlpe-rg\") # resource group of ADLS\n",
        "tenant_id=os.getenv(\"ADL_TENANT\", \"<<your tenant>>\") # tenant id of service principal\n",
        "client_id=os.getenv(\"ADL_CLIENTID\", \"<<your client id>>\") # client id of service principal\n",
        "client_secret=os.getenv(\"ADL_CLIENT_SECRET\", \"<<your secret>>\") # the secret of service principal\n",
        "\n",
        "adls_datastore_gen2= Datastore.register_azure_data_lake_gen2(workspace=ws, \n",
        "    datastore_name=store_name,\n",
        "    filesystem = \"azuremlpetest\", \n",
        "    account_name = \"testazuremlpestor\",\n",
        "    tenant_id=tenant_id, client_id=client_id, client_secret=client_secret)\n",
        "    \n",
        "#adls_datastore = Datastore.register_azure_data_lake_gen2(\n",
        "#    workspace=ws,\n",
        "#    datastore_name=data_store_name,\n",
        "#    subscription_id=subscription_id, # subscription id of ADLS account\n",
        "#    resource_group=resource_group, # resource group of ADLS account\n",
        "#    store_name=store_name, # ADLS account name\n",
        "#    tenant_id=tenant_id, # tenant id of service principal\n",
        "#    client_id=client_id, # client id of service principal\n",
        "#    client_secret=client_secret) # the secret of service principal"
      ]
    },
    {
      "cell_type": "code",
      "execution_count": null,
      "metadata": {
        "jupyter": {
          "outputs_hidden": false,
          "source_hidden": false
        },
        "nteract": {
          "transient": {
            "deleting": false
          }
        }
      },
      "outputs": [],
      "source": [
        "from azureml.core import Dataset\n",
        "datastore=Datastore.get(ws, \"testazuremlpestor\")\n",
        "dataset = Dataset.File.from_files((datastore, 'data/testcsv.txt'))"
      ]
    },
    {
      "cell_type": "code",
      "execution_count": null,
      "metadata": {
        "jupyter": {
          "outputs_hidden": false,
          "source_hidden": false
        },
        "nteract": {
          "transient": {
            "deleting": false
          }
        }
      },
      "outputs": [],
      "source": [
        "dataset = dataset.register(workspace = ws,\n",
        "                                 name = 'testcsv',\n",
        "                                 description = 'testcsv',\n",
        "                                 create_new_version = True)"
      ]
    },
    {
      "cell_type": "code",
      "execution_count": null,
      "metadata": {
        "jupyter": {
          "outputs_hidden": false,
          "source_hidden": false
        },
        "nteract": {
          "transient": {
            "deleting": false
          }
        }
      },
      "outputs": [
        {
          "data": {
            "text/plain": [
              "['/mnt/batch/tasks/shared/LS_root/mounts/clusters/rebremer2/code/Users/rebremer/testcsv.txt']"
            ]
          },
          "execution_count": 34,
          "metadata": {},
          "output_type": "execute_result"
        }
      ],
      "source": [
        "# azureml-core of version 1.0.72 or higher is required\n",
        "from azureml.core import Workspace, Dataset\n",
        "\n",
        "dataset = Dataset.get_by_name(ws, name='testcsv')\n",
        "dataset.download(target_path='.', overwrite=True)"
      ]
    },
    {
      "cell_type": "code",
      "execution_count": null,
      "metadata": {
        "jupyter": {
          "outputs_hidden": false,
          "source_hidden": false
        },
        "nteract": {
          "transient": {
            "deleting": false
          }
        }
      },
      "outputs": [
        {
          "name": "stdout",
          "output_type": "stream",
          "text": [
            "firstname, lastname\n",
            "Rene, Bremer\n",
            "Thom, Bremer\n",
            "Stef, Bremer\n"
          ]
        }
      ],
      "source": [
        "with open('/mnt/batch/tasks/shared/LS_root/mounts/clusters/rebremer2/code/Users/rebremer/testcsv.txt', 'r') as f:\n",
        "    print(f.read())"
      ]
    },
    {
      "cell_type": "code",
      "execution_count": null,
      "metadata": {
        "jupyter": {
          "outputs_hidden": false,
          "source_hidden": false
        },
        "nteract": {
          "transient": {
            "deleting": false
          }
        }
      },
      "outputs": [],
      "source": []
    }
  ],
  "metadata": {
    "kernelspec": {
      "display_name": "Python 3.8 - AzureML",
      "language": "python",
      "name": "python38-azureml"
    },
    "language_info": {
      "codemirror_mode": {
        "name": "ipython",
        "version": 3
      },
      "file_extension": ".py",
      "mimetype": "text/x-python",
      "name": "python",
      "nbconvert_exporter": "python",
      "pygments_lexer": "ipython3",
      "version": "3.8.1"
    },
    "nteract": {
      "version": "nteract-front-end@1.0.0"
    }
  },
  "nbformat": 4,
  "nbformat_minor": 0
}
